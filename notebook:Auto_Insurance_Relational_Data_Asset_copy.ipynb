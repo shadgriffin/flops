{
    "cells": [
        {
            "cell_type": "markdown",
            "metadata": {},
            "source": "# Auto Insurance Churn Data Set"
        },
        {
            "cell_type": "code",
            "execution_count": 4,
            "metadata": {
                "id": "746c0d63-15b4-4afd-b50c-daa690fb34fb"
            },
            "outputs": [],
            "source": "# The code was removed by Watson Studio for sharing."
        },
        {
            "cell_type": "markdown",
            "metadata": {},
            "source": "The following notebook imports data from a public GitHub account, creates pandas data frames and exports the data frames to CSV files in the project. You will need to add a project token to your notebook for it to work. Please see the link below for information on inserting a project token.\n\n\n"
        },
        {
            "cell_type": "markdown",
            "metadata": {},
            "source": "https://dataplatform.cloud.ibm.com/docs/content/wsj/analyze-data/token.html"
        },
        {
            "cell_type": "markdown",
            "metadata": {},
            "source": "The data asset is relational.  There are four different data files.  One represents customer information.  A second contains address information.  A third contains demographic data, and a fourth includes customer cancellation information.  All of the data sets have linking ids, either ADDRESS_ID or CUSTOMER_ID.  The ADDRESS_ID is specific to a postal service address.  The CUSTOMER_ID is unique to a particular individual.  Note that there can be multiple customers assigned to the same address.  Also, note that not all customers have a match in the demographic table. \n"
        },
        {
            "cell_type": "markdown",
            "metadata": {},
            "source": "There are 1,536,673 unique addresses.\n\nThere are 2,280,321 unique customers. Of these, 2,112,579 have demographic information, and 269,259 cancelled during the previous year.\n\n\n\n"
        },
        {
            "cell_type": "markdown",
            "metadata": {},
            "source": "This data is synthetic.  The customer information is all fictitious.  The latitude-longitude information generally refers to the Dallas-Fort Worth Metroplex in North Texas and is mappable at a high level.  Just be aware that if you drill down too far, some people may live in the middle of Jerry World, DFW Airport, or Lake Grapevine.  Any lat/long pointing to a specific residence, business, or other physical site is purely coincidental.  The physical addresses are fake and are unrelated to the lat/long. "
        },
        {
            "cell_type": "markdown",
            "metadata": {},
            "source": "In the termination table, you can derive a binary (churn/did not churn) from the ACCT_SUSPD_DATE field.  The data set is modelable.  That is, you can use the other data in the data to predict who did and did not churn.  The underlying logic behind the prediction should be consistent with predicting auto insurance churn in the real world. "
        },
        {
            "cell_type": "markdown",
            "metadata": {},
            "source": "## Table of Contents"
        },
        {
            "cell_type": "markdown",
            "metadata": {},
            "source": "Insert your token here."
        },
        {
            "cell_type": "code",
            "execution_count": null,
            "metadata": {
                "id": "f53470b9-d46a-4744-ad79-09c98b31559b"
            },
            "outputs": [],
            "source": ""
        },
        {
            "cell_type": "markdown",
            "metadata": {},
            "source": "### Import Libraries"
        },
        {
            "cell_type": "code",
            "execution_count": 5,
            "metadata": {
                "id": "97a1e84d-47d1-4b92-b24c-7345a3415cf2"
            },
            "outputs": [
                {
                    "name": "stdout",
                    "output_type": "stream",
                    "text": "160.61s - pydevd: Sending message related to process being replaced timed-out after 5 seconds\nRequirement already satisfied: plotly in /opt/conda/envs/Python-RT24.1/lib/python3.11/site-packages (5.24.1)\nRequirement already satisfied: tenacity>=6.2.0 in /opt/conda/envs/Python-RT24.1/lib/python3.11/site-packages (from plotly) (8.2.2)\nRequirement already satisfied: packaging in /opt/conda/envs/Python-RT24.1/lib/python3.11/site-packages (from plotly) (23.2)\n168.36s - pydevd: Sending message related to process being replaced timed-out after 5 seconds\nRequirement already satisfied: chart-studio in /opt/conda/envs/Python-RT24.1/lib/python3.11/site-packages (1.1.0)\nRequirement already satisfied: plotly in /opt/conda/envs/Python-RT24.1/lib/python3.11/site-packages (from chart-studio) (5.24.1)\nRequirement already satisfied: requests in /opt/conda/envs/Python-RT24.1/lib/python3.11/site-packages (from chart-studio) (2.32.2)\nRequirement already satisfied: retrying>=1.3.3 in /opt/conda/envs/Python-RT24.1/lib/python3.11/site-packages (from chart-studio) (1.3.4)\nRequirement already satisfied: six in /opt/conda/envs/Python-RT24.1/lib/python3.11/site-packages (from chart-studio) (1.16.0)\nRequirement already satisfied: tenacity>=6.2.0 in /opt/conda/envs/Python-RT24.1/lib/python3.11/site-packages (from plotly->chart-studio) (8.2.2)\nRequirement already satisfied: packaging in /opt/conda/envs/Python-RT24.1/lib/python3.11/site-packages (from plotly->chart-studio) (23.2)\nRequirement already satisfied: charset-normalizer<4,>=2 in /opt/conda/envs/Python-RT24.1/lib/python3.11/site-packages (from requests->chart-studio) (2.0.4)\nRequirement already satisfied: idna<4,>=2.5 in /opt/conda/envs/Python-RT24.1/lib/python3.11/site-packages (from requests->chart-studio) (3.7)\nRequirement already satisfied: urllib3<3,>=1.21.1 in /opt/conda/envs/Python-RT24.1/lib/python3.11/site-packages (from requests->chart-studio) (1.26.19)\nRequirement already satisfied: certifi>=2017.4.17 in /opt/conda/envs/Python-RT24.1/lib/python3.11/site-packages (from requests->chart-studio) (2024.8.30)\n"
                }
            ],
            "source": "\n!pip install plotly --upgrade\n!pip install chart-studio --upgrade"
        },
        {
            "cell_type": "code",
            "execution_count": 6,
            "metadata": {
                "id": "5e6bbf34-7b1e-4881-8b8a-fb434590ab97"
            },
            "outputs": [],
            "source": "import pandas as pd\nimport numpy as np\n\nimport chart_studio.plotly as py\nimport plotly.graph_objs as go\nimport plotly as plotly"
        },
        {
            "cell_type": "markdown",
            "metadata": {},
            "source": "### Import Address Data Frame"
        },
        {
            "cell_type": "code",
            "execution_count": 7,
            "metadata": {
                "id": "2463424d-b64e-4c9d-9a09-db1693d2d9a4"
            },
            "outputs": [
                {
                    "name": "stdout",
                    "output_type": "stream",
                    "text": "176.22s - pydevd: Sending message related to process being replaced timed-out after 5 seconds\n181.82s - pydevd: Sending message related to process being replaced timed-out after 5 seconds\n187.44s - pydevd: Sending message related to process being replaced timed-out after 5 seconds\n193.07s - pydevd: Sending message related to process being replaced timed-out after 5 seconds\n198.69s - pydevd: Sending message related to process being replaced timed-out after 5 seconds\n204.32s - pydevd: Sending message related to process being replaced timed-out after 5 seconds\n210.01s - pydevd: Sending message related to process being replaced timed-out after 5 seconds\n215.67s - pydevd: Sending message related to process being replaced timed-out after 5 seconds\n221.29s - pydevd: Sending message related to process being replaced timed-out after 5 seconds\n226.91s - pydevd: Sending message related to process being replaced timed-out after 5 seconds\n232.52s - pydevd: Sending message related to process being replaced timed-out after 5 seconds\n--2024-10-16 15:15:48--  https://raw.githubusercontent.com/shadgriffin/auto-insrance-churn-data/main/df_add1.csv\nResolving raw.githubusercontent.com (raw.githubusercontent.com)... 185.199.109.133, 185.199.111.133, 185.199.108.133, ...\nConnecting to raw.githubusercontent.com (raw.githubusercontent.com)|185.199.109.133|:443... connected.\nHTTP request sent, awaiting response... 200 OK\nLength: 12311233 (12M) [text/plain]\nSaving to: \u2018df_add1.csv\u2019\n\ndf_add1.csv         100%[===================>]  11.74M  --.-KB/s    in 0.05s   \n\n2024-10-16 15:15:49 (238 MB/s) - \u2018df_add1.csv\u2019 saved [12311233/12311233]\n\n238.54s - pydevd: Sending message related to process being replaced timed-out after 5 seconds\n--2024-10-16 15:15:54--  https://raw.githubusercontent.com/shadgriffin/auto-insrance-churn-data/main/df_add2.csv\nResolving raw.githubusercontent.com (raw.githubusercontent.com)... 185.199.110.133, 185.199.108.133, 185.199.111.133, ...\nConnecting to raw.githubusercontent.com (raw.githubusercontent.com)|185.199.110.133|:443... connected.\nHTTP request sent, awaiting response... 200 OK\nLength: 12346756 (12M) [text/plain]\nSaving to: \u2018df_add2.csv\u2019\n\ndf_add2.csv         100%[===================>]  11.77M  --.-KB/s    in 0.05s   \n\n2024-10-16 15:15:55 (234 MB/s) - \u2018df_add2.csv\u2019 saved [12346756/12346756]\n\n244.53s - pydevd: Sending message related to process being replaced timed-out after 5 seconds\n--2024-10-16 15:16:00--  https://raw.githubusercontent.com/shadgriffin/auto-insrance-churn-data/main/df_add3.csv\nResolving raw.githubusercontent.com (raw.githubusercontent.com)... 185.199.108.133, 185.199.111.133, 185.199.110.133, ...\nConnecting to raw.githubusercontent.com (raw.githubusercontent.com)|185.199.108.133|:443... connected.\nHTTP request sent, awaiting response... 200 OK\nLength: 12250120 (12M) [text/plain]\nSaving to: \u2018df_add3.csv\u2019\n\ndf_add3.csv         100%[===================>]  11.68M  --.-KB/s    in 0.05s   \n\n2024-10-16 15:16:01 (231 MB/s) - \u2018df_add3.csv\u2019 saved [12250120/12250120]\n\n250.56s - pydevd: Sending message related to process being replaced timed-out after 5 seconds\n--2024-10-16 15:16:06--  https://raw.githubusercontent.com/shadgriffin/auto-insrance-churn-data/main/df_add4.csv\nResolving raw.githubusercontent.com (raw.githubusercontent.com)... 185.199.111.133, 185.199.108.133, 185.199.109.133, ...\nConnecting to raw.githubusercontent.com (raw.githubusercontent.com)|185.199.111.133|:443... connected.\nHTTP request sent, awaiting response... 200 OK\nLength: 12331495 (12M) [text/plain]\nSaving to: \u2018df_add4.csv\u2019\n\ndf_add4.csv         100%[===================>]  11.76M  --.-KB/s    in 0.05s   \n\n2024-10-16 15:16:07 (229 MB/s) - \u2018df_add4.csv\u2019 saved [12331495/12331495]\n\n256.44s - pydevd: Sending message related to process being replaced timed-out after 5 seconds\n--2024-10-16 15:16:12--  https://raw.githubusercontent.com/shadgriffin/auto-insrance-churn-data/main/df_add5.csv\nResolving raw.githubusercontent.com (raw.githubusercontent.com)... 185.199.108.133, 185.199.109.133, 185.199.111.133, ...\nConnecting to raw.githubusercontent.com (raw.githubusercontent.com)|185.199.108.133|:443... connected.\nHTTP request sent, awaiting response... 200 OK\nLength: 12357733 (12M) [text/plain]\nSaving to: \u2018df_add5.csv\u2019\n\ndf_add5.csv         100%[===================>]  11.79M  --.-KB/s    in 0.05s   \n\n2024-10-16 15:16:13 (239 MB/s) - \u2018df_add5.csv\u2019 saved [12357733/12357733]\n\n262.55s - pydevd: Sending message related to process being replaced timed-out after 5 seconds\n--2024-10-16 15:16:18--  https://raw.githubusercontent.com/shadgriffin/auto-insrance-churn-data/main/df_add6.csv\nResolving raw.githubusercontent.com (raw.githubusercontent.com)... 185.199.109.133, 185.199.108.133, 185.199.110.133, ...\nConnecting to raw.githubusercontent.com (raw.githubusercontent.com)|185.199.109.133|:443... connected.\nHTTP request sent, awaiting response... 200 OK\nLength: 12310551 (12M) [text/plain]\nSaving to: \u2018df_add6.csv\u2019\n\ndf_add6.csv         100%[===================>]  11.74M  --.-KB/s    in 0.05s   \n\n2024-10-16 15:16:19 (221 MB/s) - \u2018df_add6.csv\u2019 saved [12310551/12310551]\n\n268.59s - pydevd: Sending message related to process being replaced timed-out after 5 seconds\n--2024-10-16 15:16:24--  https://raw.githubusercontent.com/shadgriffin/auto-insrance-churn-data/main/df_add7.csv\nResolving raw.githubusercontent.com (raw.githubusercontent.com)... 185.199.111.133, 185.199.110.133, 185.199.109.133, ...\nConnecting to raw.githubusercontent.com (raw.githubusercontent.com)|185.199.111.133|:443... connected.\nHTTP request sent, awaiting response... 200 OK\nLength: 12294756 (12M) [text/plain]\nSaving to: \u2018df_add7.csv\u2019\n\ndf_add7.csv         100%[===================>]  11.72M  --.-KB/s    in 0.04s   \n\n2024-10-16 15:16:25 (283 MB/s) - \u2018df_add7.csv\u2019 saved [12294756/12294756]\n\n274.64s - pydevd: Sending message related to process being replaced timed-out after 5 seconds\n--2024-10-16 15:16:30--  https://raw.githubusercontent.com/shadgriffin/auto-insrance-churn-data/main/df_add8.csv\nResolving raw.githubusercontent.com (raw.githubusercontent.com)... 185.199.111.133, 185.199.110.133, 185.199.109.133, ...\nConnecting to raw.githubusercontent.com (raw.githubusercontent.com)|185.199.111.133|:443... connected.\nHTTP request sent, awaiting response... 200 OK\nLength: 12285652 (12M) [text/plain]\nSaving to: \u2018df_add8.csv\u2019\n\ndf_add8.csv         100%[===================>]  11.72M  --.-KB/s    in 0.05s   \n\n2024-10-16 15:16:31 (214 MB/s) - \u2018df_add8.csv\u2019 saved [12285652/12285652]\n\n280.57s - pydevd: Sending message related to process being replaced timed-out after 5 seconds\n--2024-10-16 15:16:36--  https://raw.githubusercontent.com/shadgriffin/auto-insrance-churn-data/main/df_add9.csv\nResolving raw.githubusercontent.com (raw.githubusercontent.com)... 185.199.111.133, 185.199.110.133, 185.199.109.133, ...\nConnecting to raw.githubusercontent.com (raw.githubusercontent.com)|185.199.111.133|:443... connected.\nHTTP request sent, awaiting response... 200 OK\nLength: 12345935 (12M) [text/plain]\nSaving to: \u2018df_add9.csv\u2019\n\ndf_add9.csv         100%[===================>]  11.77M  --.-KB/s    in 0.05s   \n\n2024-10-16 15:16:37 (238 MB/s) - \u2018df_add9.csv\u2019 saved [12345935/12345935]\n\n286.58s - pydevd: Sending message related to process being replaced timed-out after 5 seconds\n--2024-10-16 15:16:42--  https://raw.githubusercontent.com/shadgriffin/auto-insrance-churn-data/main/df_add0.csv\nResolving raw.githubusercontent.com (raw.githubusercontent.com)... 185.199.109.133, 185.199.108.133, 185.199.110.133, ...\nConnecting to raw.githubusercontent.com (raw.githubusercontent.com)|185.199.109.133|:443... connected.\nHTTP request sent, awaiting response... 200 OK\nLength: 12247785 (12M) [text/plain]\nSaving to: \u2018df_add0.csv\u2019\n\ndf_add0.csv         100%[===================>]  11.68M  --.-KB/s    in 0.04s   \n\n2024-10-16 15:16:43 (275 MB/s) - \u2018df_add0.csv\u2019 saved [12247785/12247785]\n\n"
                },
                {
                    "data": {
                        "text/plain": "{'file_name': 'df_address.csv',\n 'message': 'File saved to project storage.',\n 'bucket_name': 'mloperations-donotdelete-pr-fmmhumyz2goyqr',\n 'asset_id': 'd5764369-8de0-45bf-8085-de11d843f374'}"
                    },
                    "execution_count": 7,
                    "metadata": {},
                    "output_type": "execute_result"
                }
            ],
            "source": "#Remove the data if you run this notebook more than once\n!rm df_add1.csv\n!rm df_add2.csv\n!rm df_add3.csv\n!rm df_add4.csv\n!rm df_add5.csv\n!rm df_add6.csv\n!rm df_add7.csv\n!rm df_add9.csv\n!rm df_add8.csv\n!rm df_add0.csv\n#import from github\n!wget https://raw.githubusercontent.com/shadgriffin/auto-insrance-churn-data/main/df_add1.csv\n!wget https://raw.githubusercontent.com/shadgriffin/auto-insrance-churn-data/main/df_add2.csv\n!wget https://raw.githubusercontent.com/shadgriffin/auto-insrance-churn-data/main/df_add3.csv\n!wget https://raw.githubusercontent.com/shadgriffin/auto-insrance-churn-data/main/df_add4.csv\n!wget https://raw.githubusercontent.com/shadgriffin/auto-insrance-churn-data/main/df_add5.csv\n!wget https://raw.githubusercontent.com/shadgriffin/auto-insrance-churn-data/main/df_add6.csv\n!wget https://raw.githubusercontent.com/shadgriffin/auto-insrance-churn-data/main/df_add7.csv\n!wget https://raw.githubusercontent.com/shadgriffin/auto-insrance-churn-data/main/df_add8.csv\n!wget https://raw.githubusercontent.com/shadgriffin/auto-insrance-churn-data/main/df_add9.csv\n!wget https://raw.githubusercontent.com/shadgriffin/auto-insrance-churn-data/main/df_add0.csv\n# Convert csv to pandas dataframe\ndf_add1 = pd.read_csv(\"df_add1.csv\", sep=\",\", header=0)\ndf_add2 = pd.read_csv(\"df_add2.csv\", sep=\",\", header=0)\ndf_add3 = pd.read_csv(\"df_add3.csv\", sep=\",\", header=0)\ndf_add4 = pd.read_csv(\"df_add4.csv\", sep=\",\", header=0)\ndf_add5 = pd.read_csv(\"df_add5.csv\", sep=\",\", header=0)\ndf_add6 = pd.read_csv(\"df_add6.csv\", sep=\",\", header=0)\ndf_add7 = pd.read_csv(\"df_add7.csv\", sep=\",\", header=0)\ndf_add8 = pd.read_csv(\"df_add8.csv\", sep=\",\", header=0)\ndf_add9 = pd.read_csv(\"df_add9.csv\", sep=\",\", header=0)\ndf_add0 = pd.read_csv(\"df_add0.csv\", sep=\",\", header=0)\n\n# append the pandas dataframes\ndf_address = pd.concat([df_add1,df_add2,df_add3,df_add4,df_add5,df_add6,df_add7,df_add8,df_add9,df_add0], ignore_index=True).drop_duplicates()\n# save the data frame as a csv in the project\nfrom project_lib import Project\n\nproject.save_data(file_name = \"df_address.csv\",data = df_address.to_csv(index=False),overwrite=True)"
        },
        {
            "cell_type": "code",
            "execution_count": 8,
            "metadata": {
                "id": "7a74838b-276f-442d-813f-a8028825a897"
            },
            "outputs": [
                {
                    "data": {
                        "text/html": "<div>\n<style scoped>\n    .dataframe tbody tr th:only-of-type {\n        vertical-align: middle;\n    }\n\n    .dataframe tbody tr th {\n        vertical-align: top;\n    }\n\n    .dataframe thead th {\n        text-align: right;\n    }\n</style>\n<table border=\"1\" class=\"dataframe\">\n  <thead>\n    <tr style=\"text-align: right;\">\n      <th></th>\n      <th>ADDRESS_ID</th>\n      <th>LATITUDE</th>\n      <th>LONGITUDE</th>\n      <th>STREET_ADDRESS</th>\n      <th>CITY</th>\n      <th>STATE</th>\n      <th>COUNTY</th>\n    </tr>\n  </thead>\n  <tbody>\n    <tr>\n      <th>0</th>\n      <td>5.213011e+11</td>\n      <td>32.315803</td>\n      <td>-96.627896</td>\n      <td>8457 Wright Mountains Apt. 377</td>\n      <td>Ennis</td>\n      <td>TX</td>\n      <td>Ellis</td>\n    </tr>\n    <tr>\n      <th>1</th>\n      <td>5.213000e+11</td>\n      <td>NaN</td>\n      <td>NaN</td>\n      <td>082 Cline Mountains Apt. 353</td>\n      <td>Irving</td>\n      <td>TX</td>\n      <td>Dallas</td>\n    </tr>\n    <tr>\n      <th>2</th>\n      <td>5.213002e+11</td>\n      <td>32.806290</td>\n      <td>-96.779857</td>\n      <td>457 John Mills</td>\n      <td>Dallas</td>\n      <td>TX</td>\n      <td>Dallas</td>\n    </tr>\n    <tr>\n      <th>3</th>\n      <td>5.213013e+11</td>\n      <td>32.825737</td>\n      <td>-96.939687</td>\n      <td>5726 Barnett Meadow</td>\n      <td>Irving</td>\n      <td>TX</td>\n      <td>Dallas</td>\n    </tr>\n    <tr>\n      <th>4</th>\n      <td>5.213010e+11</td>\n      <td>32.867192</td>\n      <td>-96.715552</td>\n      <td>050 Nicholas Views</td>\n      <td>Dallas</td>\n      <td>TX</td>\n      <td>Dallas</td>\n    </tr>\n  </tbody>\n</table>\n</div>",
                        "text/plain": "     ADDRESS_ID   LATITUDE  LONGITUDE                  STREET_ADDRESS    CITY  \\\n0  5.213011e+11  32.315803 -96.627896  8457 Wright Mountains Apt. 377   Ennis   \n1  5.213000e+11        NaN        NaN    082 Cline Mountains Apt. 353  Irving   \n2  5.213002e+11  32.806290 -96.779857                  457 John Mills  Dallas   \n3  5.213013e+11  32.825737 -96.939687             5726 Barnett Meadow  Irving   \n4  5.213010e+11  32.867192 -96.715552              050 Nicholas Views  Dallas   \n\n  STATE  COUNTY  \n0    TX   Ellis  \n1    TX  Dallas  \n2    TX  Dallas  \n3    TX  Dallas  \n4    TX  Dallas  "
                    },
                    "execution_count": 8,
                    "metadata": {},
                    "output_type": "execute_result"
                }
            ],
            "source": "df_address.head()"
        },
        {
            "cell_type": "code",
            "execution_count": 9,
            "metadata": {
                "id": "6d683763-8a79-46f9-ab19-4df937d75b99"
            },
            "outputs": [
                {
                    "data": {
                        "text/plain": "(1536673, 7)"
                    },
                    "execution_count": 9,
                    "metadata": {},
                    "output_type": "execute_result"
                }
            ],
            "source": "df_address.shape"
        },
        {
            "cell_type": "markdown",
            "metadata": {},
            "source": "#### Column Descriptions"
        },
        {
            "cell_type": "markdown",
            "metadata": {},
            "source": "ADDRESS_ID -- Unique ID for a specific address\n\nZIP5 -- Five Digit US Postal Service Zip Code\n\nLATITUDE -- Lattitude of the address\n\nLONGITUDE -- Longitude of the address\n\nSTREET_ADDRESS -- Mailing Address of the address\n\nCITY -- City\n\nSTATE -- State\n\nCOUNTY -- County"
        },
        {
            "cell_type": "markdown",
            "metadata": {},
            "source": "### Import Customer Data Frame"
        },
        {
            "cell_type": "code",
            "execution_count": 10,
            "metadata": {
                "id": "4c745558-0d45-43f9-98cd-70bd9a4fd10c"
            },
            "outputs": [
                {
                    "name": "stdout",
                    "output_type": "stream",
                    "text": "305.73s - pydevd: Sending message related to process being replaced timed-out after 5 seconds\nrm: cannot remove 'df_cust1.csv': No such file or directory\n311.39s - pydevd: Sending message related to process being replaced timed-out after 5 seconds\nrm: cannot remove 'df_cust2.csv': No such file or directory\n317.03s - pydevd: Sending message related to process being replaced timed-out after 5 seconds\nrm: cannot remove 'df_cust3.csv': No such file or directory\n322.67s - pydevd: Sending message related to process being replaced timed-out after 5 seconds\nrm: cannot remove 'df_cust4.csv': No such file or directory\n328.33s - pydevd: Sending message related to process being replaced timed-out after 5 seconds\nrm: cannot remove 'df_cust5.csv': No such file or directory\n333.97s - pydevd: Sending message related to process being replaced timed-out after 5 seconds\nrm: cannot remove 'df_cust6.csv': No such file or directory\n339.64s - pydevd: Sending message related to process being replaced timed-out after 5 seconds\nrm: cannot remove 'df_cust7.csv': No such file or directory\n345.27s - pydevd: Sending message related to process being replaced timed-out after 5 seconds\nrm: cannot remove 'df_cust9.csv': No such file or directory\n350.92s - pydevd: Sending message related to process being replaced timed-out after 5 seconds\nrm: cannot remove 'df_cust8.csv': No such file or directory\n356.56s - pydevd: Sending message related to process being replaced timed-out after 5 seconds\nrm: cannot remove 'df_cust0.csv': No such file or directory\n362.21s - pydevd: Sending message related to process being replaced timed-out after 5 seconds\n--2024-10-16 15:17:58--  https://raw.githubusercontent.com/shadgriffin/auto-insrance-churn-data/main/df_cust1.csv\nResolving raw.githubusercontent.com (raw.githubusercontent.com)... 185.199.111.133, 185.199.108.133, 185.199.110.133, ...\nConnecting to raw.githubusercontent.com (raw.githubusercontent.com)|185.199.111.133|:443... connected.\nHTTP request sent, awaiting response... 200 OK\nLength: 20197229 (19M) [text/plain]\nSaving to: \u2018df_cust1.csv\u2019\n\ndf_cust1.csv        100%[===================>]  19.26M  --.-KB/s    in 0.08s   \n\n2024-10-16 15:17:59 (244 MB/s) - \u2018df_cust1.csv\u2019 saved [20197229/20197229]\n\n368.73s - pydevd: Sending message related to process being replaced timed-out after 5 seconds\n--2024-10-16 15:18:05--  https://raw.githubusercontent.com/shadgriffin/auto-insrance-churn-data/main/df_cust2.csv\nResolving raw.githubusercontent.com (raw.githubusercontent.com)... 185.199.110.133, 185.199.109.133, 185.199.108.133, ...\nConnecting to raw.githubusercontent.com (raw.githubusercontent.com)|185.199.110.133|:443... connected.\nHTTP request sent, awaiting response... 200 OK\nLength: 20199518 (19M) [text/plain]\nSaving to: \u2018df_cust2.csv\u2019\n\ndf_cust2.csv        100%[===================>]  19.26M  --.-KB/s    in 0.06s   \n\n2024-10-16 15:18:05 (303 MB/s) - \u2018df_cust2.csv\u2019 saved [20199518/20199518]\n\n375.26s - pydevd: Sending message related to process being replaced timed-out after 5 seconds\n--2024-10-16 15:18:11--  https://raw.githubusercontent.com/shadgriffin/auto-insrance-churn-data/main/df_cust3.csv\nResolving raw.githubusercontent.com (raw.githubusercontent.com)... 185.199.109.133, 185.199.111.133, 185.199.110.133, ...\nConnecting to raw.githubusercontent.com (raw.githubusercontent.com)|185.199.109.133|:443... connected.\nHTTP request sent, awaiting response... 200 OK\nLength: 20181032 (19M) [text/plain]\nSaving to: \u2018df_cust3.csv\u2019\n\ndf_cust3.csv        100%[===================>]  19.25M  --.-KB/s    in 0.07s   \n\n2024-10-16 15:18:12 (279 MB/s) - \u2018df_cust3.csv\u2019 saved [20181032/20181032]\n\n381.97s - pydevd: Sending message related to process being replaced timed-out after 5 seconds\n--2024-10-16 15:18:18--  https://raw.githubusercontent.com/shadgriffin/auto-insrance-churn-data/main/df_cust4.csv\nResolving raw.githubusercontent.com (raw.githubusercontent.com)... 185.199.110.133, 185.199.111.133, 185.199.108.133, ...\nConnecting to raw.githubusercontent.com (raw.githubusercontent.com)|185.199.110.133|:443... connected.\nHTTP request sent, awaiting response... 200 OK\nLength: 20099325 (19M) [text/plain]\nSaving to: \u2018df_cust4.csv\u2019\n\ndf_cust4.csv        100%[===================>]  19.17M  --.-KB/s    in 0.07s   \n\n2024-10-16 15:18:19 (293 MB/s) - \u2018df_cust4.csv\u2019 saved [20099325/20099325]\n\n388.65s - pydevd: Sending message related to process being replaced timed-out after 5 seconds\n--2024-10-16 15:18:25--  https://raw.githubusercontent.com/shadgriffin/auto-insrance-churn-data/main/df_cust5.csv\nResolving raw.githubusercontent.com (raw.githubusercontent.com)... 185.199.110.133, 185.199.108.133, 185.199.111.133, ...\nConnecting to raw.githubusercontent.com (raw.githubusercontent.com)|185.199.110.133|:443... connected.\nHTTP request sent, awaiting response... 200 OK\nLength: 20198766 (19M) [text/plain]\nSaving to: \u2018df_cust5.csv\u2019\n\ndf_cust5.csv        100%[===================>]  19.26M  --.-KB/s    in 0.08s   \n\n2024-10-16 15:18:26 (233 MB/s) - \u2018df_cust5.csv\u2019 saved [20198766/20198766]\n\n395.33s - pydevd: Sending message related to process being replaced timed-out after 5 seconds\n--2024-10-16 15:18:31--  https://raw.githubusercontent.com/shadgriffin/auto-insrance-churn-data/main/df_cust6.csv\nResolving raw.githubusercontent.com (raw.githubusercontent.com)... 185.199.111.133, 185.199.109.133, 185.199.110.133, ...\nConnecting to raw.githubusercontent.com (raw.githubusercontent.com)|185.199.111.133|:443... connected.\nHTTP request sent, awaiting response... 200 OK\nLength: 20110329 (19M) [text/plain]\nSaving to: \u2018df_cust6.csv\u2019\n\ndf_cust6.csv        100%[===================>]  19.18M  --.-KB/s    in 0.08s   \n\n2024-10-16 15:18:32 (237 MB/s) - \u2018df_cust6.csv\u2019 saved [20110329/20110329]\n\n401.75s - pydevd: Sending message related to process being replaced timed-out after 5 seconds\n--2024-10-16 15:18:38--  https://raw.githubusercontent.com/shadgriffin/auto-insrance-churn-data/main/df_cust7.csv\nResolving raw.githubusercontent.com (raw.githubusercontent.com)... 185.199.109.133, 185.199.108.133, 185.199.111.133, ...\nConnecting to raw.githubusercontent.com (raw.githubusercontent.com)|185.199.109.133|:443... connected.\nHTTP request sent, awaiting response... 200 OK\nLength: 20188702 (19M) [text/plain]\nSaving to: \u2018df_cust7.csv\u2019\n\ndf_cust7.csv        100%[===================>]  19.25M  --.-KB/s    in 0.07s   \n\n2024-10-16 15:18:38 (293 MB/s) - \u2018df_cust7.csv\u2019 saved [20188702/20188702]\n\n408.27s - pydevd: Sending message related to process being replaced timed-out after 5 seconds\n--2024-10-16 15:18:44--  https://raw.githubusercontent.com/shadgriffin/auto-insrance-churn-data/main/df_cust8.csv\nResolving raw.githubusercontent.com (raw.githubusercontent.com)... 185.199.110.133, 185.199.109.133, 185.199.108.133, ...\nConnecting to raw.githubusercontent.com (raw.githubusercontent.com)|185.199.110.133|:443... connected.\nHTTP request sent, awaiting response... 200 OK\nLength: 20192263 (19M) [text/plain]\nSaving to: \u2018df_cust8.csv\u2019\n\ndf_cust8.csv        100%[===================>]  19.26M  --.-KB/s    in 0.07s   \n\n2024-10-16 15:18:45 (276 MB/s) - \u2018df_cust8.csv\u2019 saved [20192263/20192263]\n\n414.99s - pydevd: Sending message related to process being replaced timed-out after 5 seconds\n--2024-10-16 15:18:51--  https://raw.githubusercontent.com/shadgriffin/auto-insrance-churn-data/main/df_cust9.csv\nResolving raw.githubusercontent.com (raw.githubusercontent.com)... 185.199.108.133, 185.199.111.133, 185.199.110.133, ...\nConnecting to raw.githubusercontent.com (raw.githubusercontent.com)|185.199.108.133|:443... connected.\nHTTP request sent, awaiting response... 200 OK\nLength: 20202666 (19M) [text/plain]\nSaving to: \u2018df_cust9.csv\u2019\n\ndf_cust9.csv        100%[===================>]  19.27M  --.-KB/s    in 0.06s   \n\n2024-10-16 15:18:52 (297 MB/s) - \u2018df_cust9.csv\u2019 saved [20202666/20202666]\n\n421.52s - pydevd: Sending message related to process being replaced timed-out after 5 seconds\n--2024-10-16 15:18:57--  https://raw.githubusercontent.com/shadgriffin/auto-insrance-churn-data/main/df_cust0.csv\nResolving raw.githubusercontent.com (raw.githubusercontent.com)... 185.199.110.133, 185.199.108.133, 185.199.109.133, ...\nConnecting to raw.githubusercontent.com (raw.githubusercontent.com)|185.199.110.133|:443... connected.\nHTTP request sent, awaiting response... 200 OK\nLength: 20216231 (19M) [text/plain]\nSaving to: \u2018df_cust0.csv\u2019\n\ndf_cust0.csv        100%[===================>]  19.28M  --.-KB/s    in 0.06s   \n\n2024-10-16 15:18:58 (304 MB/s) - \u2018df_cust0.csv\u2019 saved [20216231/20216231]\n\n"
                },
                {
                    "data": {
                        "text/plain": "{'file_name': 'df_customer.csv',\n 'message': 'File saved to project storage.',\n 'bucket_name': 'mloperations-donotdelete-pr-fmmhumyz2goyqr',\n 'asset_id': '8f2120df-0b0a-42b6-9d24-1139245b0032'}"
                    },
                    "execution_count": 10,
                    "metadata": {},
                    "output_type": "execute_result"
                }
            ],
            "source": "#Remove the data if you run this notebook more than once\n!rm df_cust1.csv\n!rm df_cust2.csv\n!rm df_cust3.csv\n!rm df_cust4.csv\n!rm df_cust5.csv\n!rm df_cust6.csv\n!rm df_cust7.csv\n!rm df_cust9.csv\n!rm df_cust8.csv\n!rm df_cust0.csv\n#import from github\n!wget https://raw.githubusercontent.com/shadgriffin/auto-insrance-churn-data/main/df_cust1.csv\n!wget https://raw.githubusercontent.com/shadgriffin/auto-insrance-churn-data/main/df_cust2.csv\n!wget https://raw.githubusercontent.com/shadgriffin/auto-insrance-churn-data/main/df_cust3.csv\n!wget https://raw.githubusercontent.com/shadgriffin/auto-insrance-churn-data/main/df_cust4.csv\n!wget https://raw.githubusercontent.com/shadgriffin/auto-insrance-churn-data/main/df_cust5.csv\n!wget https://raw.githubusercontent.com/shadgriffin/auto-insrance-churn-data/main/df_cust6.csv\n!wget https://raw.githubusercontent.com/shadgriffin/auto-insrance-churn-data/main/df_cust7.csv\n!wget https://raw.githubusercontent.com/shadgriffin/auto-insrance-churn-data/main/df_cust8.csv\n!wget https://raw.githubusercontent.com/shadgriffin/auto-insrance-churn-data/main/df_cust9.csv\n!wget https://raw.githubusercontent.com/shadgriffin/auto-insrance-churn-data/main/df_cust0.csv\n# Convert csv to pandas dataframe\ndf_cust1 = pd.read_csv(\"df_cust1.csv\", sep=\",\", header=0)\ndf_cust2 = pd.read_csv(\"df_cust2.csv\", sep=\",\", header=0)\ndf_cust3 = pd.read_csv(\"df_cust3.csv\", sep=\",\", header=0)\ndf_cust4 = pd.read_csv(\"df_cust4.csv\", sep=\",\", header=0)\ndf_cust5 = pd.read_csv(\"df_cust5.csv\", sep=\",\", header=0)\ndf_cust6 = pd.read_csv(\"df_cust6.csv\", sep=\",\", header=0)\ndf_cust7 = pd.read_csv(\"df_cust7.csv\", sep=\",\", header=0)\ndf_cust8 = pd.read_csv(\"df_cust8.csv\", sep=\",\", header=0)\ndf_cust9 = pd.read_csv(\"df_cust9.csv\", sep=\",\", header=0)\ndf_cust0 = pd.read_csv(\"df_cust0.csv\", sep=\",\", header=0)\n\n# append the pandas dataframes\ndf_customer = pd.concat([df_cust1,df_cust2,df_cust3,df_cust4,df_cust5,df_cust6,df_cust7,df_cust8,df_cust9,df_cust0], ignore_index=True).drop_duplicates()\n# save the data frame as a csv in the project\nfrom project_lib import Project\n\nproject.save_data(file_name = \"df_customer.csv\",data = df_customer.to_csv(index=False),overwrite=True)"
        },
        {
            "cell_type": "code",
            "execution_count": 11,
            "metadata": {
                "id": "058248f8-1758-49f3-a56d-9d3250e4f0fa"
            },
            "outputs": [
                {
                    "data": {
                        "text/plain": "(2280321, 8)"
                    },
                    "execution_count": 11,
                    "metadata": {},
                    "output_type": "execute_result"
                }
            ],
            "source": "df_customer.shape"
        },
        {
            "cell_type": "code",
            "execution_count": 12,
            "metadata": {
                "id": "1c2e5c7d-3e5c-43f0-aca5-231e37e8fdf0"
            },
            "outputs": [
                {
                    "data": {
                        "text/html": "<div>\n<style scoped>\n    .dataframe tbody tr th:only-of-type {\n        vertical-align: middle;\n    }\n\n    .dataframe tbody tr th {\n        vertical-align: top;\n    }\n\n    .dataframe thead th {\n        text-align: right;\n    }\n</style>\n<table border=\"1\" class=\"dataframe\">\n  <thead>\n    <tr style=\"text-align: right;\">\n      <th></th>\n      <th>INDIVIDUAL_ID</th>\n      <th>ADDRESS_ID</th>\n      <th>CURR_ANN_AMT</th>\n      <th>DAYS_TENURE</th>\n      <th>CUST_ORIG_DATE</th>\n      <th>AGE_IN_YEARS</th>\n      <th>DATE_OF_BIRTH</th>\n      <th>SOCIAL_SECURITY_NUMBER</th>\n    </tr>\n  </thead>\n  <tbody>\n    <tr>\n      <th>0</th>\n      <td>2.213000e+11</td>\n      <td>5.213000e+11</td>\n      <td>818.877997</td>\n      <td>1454.0</td>\n      <td>2018-12-09</td>\n      <td>44.474</td>\n      <td>1978-06-23</td>\n      <td>608-XX-7640</td>\n    </tr>\n    <tr>\n      <th>1</th>\n      <td>2.213001e+11</td>\n      <td>5.213001e+11</td>\n      <td>974.199182</td>\n      <td>1795.0</td>\n      <td>2018-01-02</td>\n      <td>72.559</td>\n      <td>1950-05-30</td>\n      <td>342-XX-6908</td>\n    </tr>\n    <tr>\n      <th>2</th>\n      <td>2.213007e+11</td>\n      <td>5.213002e+11</td>\n      <td>967.375112</td>\n      <td>4818.0</td>\n      <td>2009-09-23</td>\n      <td>55.444</td>\n      <td>1967-07-07</td>\n      <td>240-XX-9224</td>\n    </tr>\n    <tr>\n      <th>3</th>\n      <td>2.213016e+11</td>\n      <td>5.213006e+11</td>\n      <td>992.409561</td>\n      <td>130.0</td>\n      <td>2022-07-25</td>\n      <td>53.558</td>\n      <td>1969-05-25</td>\n      <td>775-XX-6249</td>\n    </tr>\n    <tr>\n      <th>4</th>\n      <td>2.213016e+11</td>\n      <td>5.213006e+11</td>\n      <td>784.633494</td>\n      <td>5896.0</td>\n      <td>2006-10-11</td>\n      <td>50.220</td>\n      <td>1972-09-25</td>\n      <td>629-XX-7298</td>\n    </tr>\n  </tbody>\n</table>\n</div>",
                        "text/plain": "   INDIVIDUAL_ID    ADDRESS_ID  CURR_ANN_AMT  DAYS_TENURE CUST_ORIG_DATE  \\\n0   2.213000e+11  5.213000e+11    818.877997       1454.0     2018-12-09   \n1   2.213001e+11  5.213001e+11    974.199182       1795.0     2018-01-02   \n2   2.213007e+11  5.213002e+11    967.375112       4818.0     2009-09-23   \n3   2.213016e+11  5.213006e+11    992.409561        130.0     2022-07-25   \n4   2.213016e+11  5.213006e+11    784.633494       5896.0     2006-10-11   \n\n   AGE_IN_YEARS DATE_OF_BIRTH SOCIAL_SECURITY_NUMBER  \n0        44.474    1978-06-23            608-XX-7640  \n1        72.559    1950-05-30            342-XX-6908  \n2        55.444    1967-07-07            240-XX-9224  \n3        53.558    1969-05-25            775-XX-6249  \n4        50.220    1972-09-25            629-XX-7298  "
                    },
                    "execution_count": 12,
                    "metadata": {},
                    "output_type": "execute_result"
                }
            ],
            "source": "df_customer.head()"
        },
        {
            "cell_type": "markdown",
            "metadata": {},
            "source": "Column Descriptions"
        },
        {
            "cell_type": "markdown",
            "metadata": {},
            "source": "INDIVIDUAL_ID -- Unique ID for a specific insurance customer\n\nADDRESS_ID -- Unique ID for the primary address associated with a customer\n\nCURR_ANN_AMT -- The Annual dollar value paid by the customer.  It is not the policy amount.  It is actually amount the customer paid during the previous year.\n\nDAYS_TENURE -- The time in days individual has been a customer with the insurance agency.\n\nCUST_ORIG_DATE -- The data the individual became a customer\n\nAGE_IN_YEARS -- Age of the individual.\n\nDATE_OF_BIRTH -- Individual's date of birth\n\nSOCIAL_SECURITY_NUMBER -- Social Security Number.  Note the middle two digts are XX to prevent any coincidental actuall SSNs from appearing.\n"
        },
        {
            "cell_type": "markdown",
            "metadata": {},
            "source": "### Import Demographic Data Frame"
        },
        {
            "cell_type": "code",
            "execution_count": 13,
            "metadata": {
                "id": "3a84da27-c48c-45f7-bd26-c9553b5a283f"
            },
            "outputs": [
                {
                    "name": "stdout",
                    "output_type": "stream",
                    "text": "449.04s - pydevd: Sending message related to process being replaced timed-out after 5 seconds\nrm: cannot remove 'df_demo1.csv': No such file or directory\n454.68s - pydevd: Sending message related to process being replaced timed-out after 5 seconds\nrm: cannot remove 'df_demo2.csv': No such file or directory\n460.39s - pydevd: Sending message related to process being replaced timed-out after 5 seconds\nrm: cannot remove 'df_demo3.csv': No such file or directory\n466.04s - pydevd: Sending message related to process being replaced timed-out after 5 seconds\nrm: cannot remove 'df_demo4.csv': No such file or directory\n471.68s - pydevd: Sending message related to process being replaced timed-out after 5 seconds\nrm: cannot remove 'df_demo5.csv': No such file or directory\n477.33s - pydevd: Sending message related to process being replaced timed-out after 5 seconds\nrm: cannot remove 'df_demo6.csv': No such file or directory\n482.98s - pydevd: Sending message related to process being replaced timed-out after 5 seconds\nrm: cannot remove 'df_demo7.csv': No such file or directory\n488.63s - pydevd: Sending message related to process being replaced timed-out after 5 seconds\nrm: cannot remove 'df_demo8.csv': No such file or directory\n494.30s - pydevd: Sending message related to process being replaced timed-out after 5 seconds\nrm: cannot remove 'df_demo9.csv': No such file or directory\n500.01s - pydevd: Sending message related to process being replaced timed-out after 5 seconds\nrm: cannot remove 'df_demo0.csv': No such file or directory\n505.67s - pydevd: Sending message related to process being replaced timed-out after 5 seconds\n--2024-10-16 15:20:22--  https://raw.githubusercontent.com/shadgriffin/auto-insrance-churn-data/main/df_demo1.csv\nResolving raw.githubusercontent.com (raw.githubusercontent.com)... 185.199.109.133, 185.199.111.133, 185.199.108.133, ...\nConnecting to raw.githubusercontent.com (raw.githubusercontent.com)|185.199.109.133|:443... connected.\nHTTP request sent, awaiting response... 200 OK\nLength: 12270782 (12M) [text/plain]\nSaving to: \u2018df_demo1.csv\u2019\n\ndf_demo1.csv        100%[===================>]  11.70M  --.-KB/s    in 0.04s   \n\n2024-10-16 15:20:22 (274 MB/s) - \u2018df_demo1.csv\u2019 saved [12270782/12270782]\n\n512.07s - pydevd: Sending message related to process being replaced timed-out after 5 seconds\n--2024-10-16 15:20:28--  https://raw.githubusercontent.com/shadgriffin/auto-insrance-churn-data/main/df_demo2.csv\nResolving raw.githubusercontent.com (raw.githubusercontent.com)... 185.199.110.133, 185.199.109.133, 185.199.108.133, ...\nConnecting to raw.githubusercontent.com (raw.githubusercontent.com)|185.199.110.133|:443... connected.\nHTTP request sent, awaiting response... 200 OK\nLength: 12312642 (12M) [text/plain]\nSaving to: \u2018df_demo2.csv\u2019\n\ndf_demo2.csv        100%[===================>]  11.74M  --.-KB/s    in 0.04s   \n\n2024-10-16 15:20:29 (280 MB/s) - \u2018df_demo2.csv\u2019 saved [12312642/12312642]\n\n518.49s - pydevd: Sending message related to process being replaced timed-out after 5 seconds\n--2024-10-16 15:20:34--  https://raw.githubusercontent.com/shadgriffin/auto-insrance-churn-data/main/df_demo3.csv\nResolving raw.githubusercontent.com (raw.githubusercontent.com)... 185.199.108.133, 185.199.111.133, 185.199.109.133, ...\nConnecting to raw.githubusercontent.com (raw.githubusercontent.com)|185.199.108.133|:443... connected.\nHTTP request sent, awaiting response... 200 OK\nLength: 12288205 (12M) [text/plain]\nSaving to: \u2018df_demo3.csv\u2019\n\ndf_demo3.csv        100%[===================>]  11.72M  --.-KB/s    in 0.04s   \n\n2024-10-16 15:20:35 (292 MB/s) - \u2018df_demo3.csv\u2019 saved [12288205/12288205]\n\n524.74s - pydevd: Sending message related to process being replaced timed-out after 5 seconds\n--2024-10-16 15:20:41--  https://raw.githubusercontent.com/shadgriffin/auto-insrance-churn-data/main/df_demo4.csv\nResolving raw.githubusercontent.com (raw.githubusercontent.com)... 185.199.110.133, 185.199.108.133, 185.199.111.133, ...\nConnecting to raw.githubusercontent.com (raw.githubusercontent.com)|185.199.110.133|:443... connected.\nHTTP request sent, awaiting response... 200 OK\nLength: 12226881 (12M) [text/plain]\nSaving to: \u2018df_demo4.csv\u2019\n\ndf_demo4.csv        100%[===================>]  11.66M  --.-KB/s    in 0.04s   \n\n2024-10-16 15:20:41 (279 MB/s) - \u2018df_demo4.csv\u2019 saved [12226881/12226881]\n\n531.17s - pydevd: Sending message related to process being replaced timed-out after 5 seconds\n--2024-10-16 15:20:47--  https://raw.githubusercontent.com/shadgriffin/auto-insrance-churn-data/main/df_demo5.csv\nResolving raw.githubusercontent.com (raw.githubusercontent.com)... 185.199.108.133, 185.199.110.133, 185.199.109.133, ...\nConnecting to raw.githubusercontent.com (raw.githubusercontent.com)|185.199.108.133|:443... connected.\nHTTP request sent, awaiting response... 200 OK\nLength: 12293643 (12M) [text/plain]\nSaving to: \u2018df_demo5.csv\u2019\n\ndf_demo5.csv        100%[===================>]  11.72M  --.-KB/s    in 0.05s   \n\n2024-10-16 15:20:48 (258 MB/s) - \u2018df_demo5.csv\u2019 saved [12293643/12293643]\n\n537.53s - pydevd: Sending message related to process being replaced timed-out after 5 seconds\n--2024-10-16 15:20:53--  https://raw.githubusercontent.com/shadgriffin/auto-insrance-churn-data/main/df_demo6.csv\nResolving raw.githubusercontent.com (raw.githubusercontent.com)... 185.199.108.133, 185.199.110.133, 185.199.109.133, ...\nConnecting to raw.githubusercontent.com (raw.githubusercontent.com)|185.199.108.133|:443... connected.\nHTTP request sent, awaiting response... 200 OK\nLength: 12283514 (12M) [text/plain]\nSaving to: \u2018df_demo6.csv\u2019\n\ndf_demo6.csv        100%[===================>]  11.71M  --.-KB/s    in 0.05s   \n\n2024-10-16 15:20:54 (240 MB/s) - \u2018df_demo6.csv\u2019 saved [12283514/12283514]\n\n544.05s - pydevd: Sending message related to process being replaced timed-out after 5 seconds\n--2024-10-16 15:21:00--  https://raw.githubusercontent.com/shadgriffin/auto-insrance-churn-data/main/df_demo7.csv\nResolving raw.githubusercontent.com (raw.githubusercontent.com)... 185.199.111.133, 185.199.110.133, 185.199.108.133, ...\nConnecting to raw.githubusercontent.com (raw.githubusercontent.com)|185.199.111.133|:443... connected.\nHTTP request sent, awaiting response... 200 OK\nLength: 12332310 (12M) [text/plain]\nSaving to: \u2018df_demo7.csv\u2019\n\ndf_demo7.csv        100%[===================>]  11.76M  --.-KB/s    in 0.04s   \n\n2024-10-16 15:21:01 (262 MB/s) - \u2018df_demo7.csv\u2019 saved [12332310/12332310]\n\n550.39s - pydevd: Sending message related to process being replaced timed-out after 5 seconds\n--2024-10-16 15:21:06--  https://raw.githubusercontent.com/shadgriffin/auto-insrance-churn-data/main/df_demo8.csv\nResolving raw.githubusercontent.com (raw.githubusercontent.com)... 185.199.108.133, 185.199.111.133, 185.199.109.133, ...\nConnecting to raw.githubusercontent.com (raw.githubusercontent.com)|185.199.108.133|:443... connected.\nHTTP request sent, awaiting response... 200 OK\nLength: 12315441 (12M) [text/plain]\nSaving to: \u2018df_demo8.csv\u2019\n\ndf_demo8.csv        100%[===================>]  11.74M  --.-KB/s    in 0.05s   \n\n2024-10-16 15:21:07 (224 MB/s) - \u2018df_demo8.csv\u2019 saved [12315441/12315441]\n\n556.85s - pydevd: Sending message related to process being replaced timed-out after 5 seconds\n--2024-10-16 15:21:13--  https://raw.githubusercontent.com/shadgriffin/auto-insrance-churn-data/main/df_demo9.csv\nResolving raw.githubusercontent.com (raw.githubusercontent.com)... 185.199.109.133, 185.199.111.133, 185.199.110.133, ...\nConnecting to raw.githubusercontent.com (raw.githubusercontent.com)|185.199.109.133|:443... connected.\nHTTP request sent, awaiting response... 200 OK\nLength: 12267672 (12M) [text/plain]\nSaving to: \u2018df_demo9.csv\u2019\n\ndf_demo9.csv        100%[===================>]  11.70M  --.-KB/s    in 0.04s   \n\n2024-10-16 15:21:13 (285 MB/s) - \u2018df_demo9.csv\u2019 saved [12267672/12267672]\n\n563.25s - pydevd: Sending message related to process being replaced timed-out after 5 seconds\n--2024-10-16 15:21:19--  https://raw.githubusercontent.com/shadgriffin/auto-insrance-churn-data/main/df_demo0.csv\nResolving raw.githubusercontent.com (raw.githubusercontent.com)... 185.199.110.133, 185.199.108.133, 185.199.111.133, ...\nConnecting to raw.githubusercontent.com (raw.githubusercontent.com)|185.199.110.133|:443... connected.\nHTTP request sent, awaiting response... 200 OK\nLength: 12292630 (12M) [text/plain]\nSaving to: \u2018df_demo0.csv\u2019\n\ndf_demo0.csv        100%[===================>]  11.72M  --.-KB/s    in 0.04s   \n\n2024-10-16 15:21:20 (282 MB/s) - \u2018df_demo0.csv\u2019 saved [12292630/12292630]\n\n"
                },
                {
                    "data": {
                        "text/plain": "{'file_name': 'df_demographic.csv',\n 'message': 'File saved to project storage.',\n 'bucket_name': 'mloperations-donotdelete-pr-fmmhumyz2goyqr',\n 'asset_id': '7154310d-944c-4462-bd04-6fd5a4b5e6cd'}"
                    },
                    "execution_count": 13,
                    "metadata": {},
                    "output_type": "execute_result"
                }
            ],
            "source": "#Remove the data if you run this notebook more than once\n!rm df_demo1.csv\n!rm df_demo2.csv\n!rm df_demo3.csv\n!rm df_demo4.csv\n!rm df_demo5.csv\n!rm df_demo6.csv\n!rm df_demo7.csv\n!rm df_demo8.csv\n!rm df_demo9.csv\n!rm df_demo0.csv\n#import first half from github\n!wget https://raw.githubusercontent.com/shadgriffin/auto-insrance-churn-data/main/df_demo1.csv\n!wget https://raw.githubusercontent.com/shadgriffin/auto-insrance-churn-data/main/df_demo2.csv\n!wget https://raw.githubusercontent.com/shadgriffin/auto-insrance-churn-data/main/df_demo3.csv\n!wget https://raw.githubusercontent.com/shadgriffin/auto-insrance-churn-data/main/df_demo4.csv\n!wget https://raw.githubusercontent.com/shadgriffin/auto-insrance-churn-data/main/df_demo5.csv\n!wget https://raw.githubusercontent.com/shadgriffin/auto-insrance-churn-data/main/df_demo6.csv\n!wget https://raw.githubusercontent.com/shadgriffin/auto-insrance-churn-data/main/df_demo7.csv\n!wget https://raw.githubusercontent.com/shadgriffin/auto-insrance-churn-data/main/df_demo8.csv\n!wget https://raw.githubusercontent.com/shadgriffin/auto-insrance-churn-data/main/df_demo9.csv\n!wget https://raw.githubusercontent.com/shadgriffin/auto-insrance-churn-data/main/df_demo0.csv   \n\n# Convert csv to pandas dataframe\ndf_demo1 = pd.read_csv(\"df_demo1.csv\", sep=\",\", header=0)\ndf_demo2 = pd.read_csv(\"df_demo2.csv\", sep=\",\", header=0)\ndf_demo3 = pd.read_csv(\"df_demo3.csv\", sep=\",\", header=0)\ndf_demo4 = pd.read_csv(\"df_demo4.csv\", sep=\",\", header=0)\ndf_demo5 = pd.read_csv(\"df_demo5.csv\", sep=\",\", header=0)\ndf_demo6 = pd.read_csv(\"df_demo6.csv\", sep=\",\", header=0)\ndf_demo7 = pd.read_csv(\"df_demo7.csv\", sep=\",\", header=0)\ndf_demo8 = pd.read_csv(\"df_demo8.csv\", sep=\",\", header=0)\ndf_demo9 = pd.read_csv(\"df_demo9.csv\", sep=\",\", header=0)\ndf_demo0 = pd.read_csv(\"df_demo0.csv\", sep=\",\", header=0)\n\n\ndf_demographic = pd.concat([df_demo1,df_demo2,df_demo3,df_demo4,df_demo5,df_demo6,df_demo0,df_demo7,df_demo8,df_demo9], ignore_index=True).drop_duplicates()\n\nfrom project_lib import Project\n\nproject.save_data(file_name = \"df_demographic.csv\",data = df_demographic.to_csv(index=False),overwrite=True)"
        },
        {
            "cell_type": "code",
            "execution_count": 14,
            "metadata": {
                "id": "69259523-9851-4967-90d2-0f69e0ef7440"
            },
            "outputs": [
                {
                    "data": {
                        "text/html": "<div>\n<style scoped>\n    .dataframe tbody tr th:only-of-type {\n        vertical-align: middle;\n    }\n\n    .dataframe tbody tr th {\n        vertical-align: top;\n    }\n\n    .dataframe thead th {\n        text-align: right;\n    }\n</style>\n<table border=\"1\" class=\"dataframe\">\n  <thead>\n    <tr style=\"text-align: right;\">\n      <th></th>\n      <th>INDIVIDUAL_ID</th>\n      <th>INCOME</th>\n      <th>HAS_CHILDREN</th>\n      <th>LENGTH_OF_RESIDENCE</th>\n      <th>MARITAL_STATUS</th>\n      <th>HOME_MARKET_VALUE</th>\n      <th>HOME_OWNER</th>\n      <th>COLLEGE_DEGREE</th>\n      <th>GOOD_CREDIT</th>\n    </tr>\n  </thead>\n  <tbody>\n    <tr>\n      <th>0</th>\n      <td>2.213028e+11</td>\n      <td>125000.000</td>\n      <td>1.0</td>\n      <td>8.0</td>\n      <td>Single</td>\n      <td>300000 - 349999</td>\n      <td>1</td>\n      <td>1</td>\n      <td>1</td>\n    </tr>\n    <tr>\n      <th>1</th>\n      <td>2.213032e+11</td>\n      <td>42500.000</td>\n      <td>0.0</td>\n      <td>0.0</td>\n      <td>Single</td>\n      <td>NaN</td>\n      <td>0</td>\n      <td>0</td>\n      <td>0</td>\n    </tr>\n    <tr>\n      <th>2</th>\n      <td>2.213032e+11</td>\n      <td>27500.000</td>\n      <td>0.0</td>\n      <td>15.0</td>\n      <td>Married</td>\n      <td>75000 - 99999</td>\n      <td>1</td>\n      <td>0</td>\n      <td>1</td>\n    </tr>\n    <tr>\n      <th>3</th>\n      <td>2.213032e+11</td>\n      <td>80372.176</td>\n      <td>0.0</td>\n      <td>0.0</td>\n      <td>NaN</td>\n      <td>1000 - 24999</td>\n      <td>1</td>\n      <td>0</td>\n      <td>0</td>\n    </tr>\n    <tr>\n      <th>4</th>\n      <td>2.213032e+11</td>\n      <td>125000.000</td>\n      <td>0.0</td>\n      <td>0.0</td>\n      <td>NaN</td>\n      <td>NaN</td>\n      <td>0</td>\n      <td>0</td>\n      <td>1</td>\n    </tr>\n  </tbody>\n</table>\n</div>",
                        "text/plain": "   INDIVIDUAL_ID      INCOME  HAS_CHILDREN  LENGTH_OF_RESIDENCE  \\\n0   2.213028e+11  125000.000           1.0                  8.0   \n1   2.213032e+11   42500.000           0.0                  0.0   \n2   2.213032e+11   27500.000           0.0                 15.0   \n3   2.213032e+11   80372.176           0.0                  0.0   \n4   2.213032e+11  125000.000           0.0                  0.0   \n\n  MARITAL_STATUS HOME_MARKET_VALUE  HOME_OWNER  COLLEGE_DEGREE  GOOD_CREDIT  \n0         Single   300000 - 349999           1               1            1  \n1         Single               NaN           0               0            0  \n2        Married     75000 - 99999           1               0            1  \n3            NaN      1000 - 24999           1               0            0  \n4            NaN               NaN           0               0            1  "
                    },
                    "execution_count": 14,
                    "metadata": {},
                    "output_type": "execute_result"
                }
            ],
            "source": "df_demographic.head()"
        },
        {
            "cell_type": "markdown",
            "metadata": {},
            "source": "#### Column Descriptions"
        },
        {
            "cell_type": "markdown",
            "metadata": {},
            "source": "INDIVIDUAL_ID -- Unique ID for a specific insurance customer\n\nINCOME -- Estimated Income for the Household associated with the individual\n\nHAS_CHILDREN -- Flag, 1 indicates the individual has children in the home, 0 otherwise.\n\nLENGTH_OF_RESIDENCE -- Estimated number of years the individual has lived in their current home.\n\nMARITAL_STATUS -- Estimated marital status.  Married or Single.\n\nHOME_MARKET_VALUE -- Estimate value of home.\n\nHOME_OWNER -- Flag, 1 individual owns primary home, 0 otherwise.\n\nCOLLEGE_DEGREE -- Flag, 1 individual has a college degree or more, 0 otherwise.\n\nGOOD_CREDIT -- Flag, 1 individual has FICO greater than 630, 0 otherwise."
        },
        {
            "cell_type": "code",
            "execution_count": 15,
            "metadata": {
                "id": "8a761d3b-4e4c-4501-a0f8-1defa7bbd0eb"
            },
            "outputs": [
                {
                    "data": {
                        "text/plain": "(2112579, 9)"
                    },
                    "execution_count": 15,
                    "metadata": {},
                    "output_type": "execute_result"
                }
            ],
            "source": "df_demographic.shape"
        },
        {
            "cell_type": "markdown",
            "metadata": {},
            "source": "### Import Customer Termination Data Frame"
        },
        {
            "cell_type": "code",
            "execution_count": 16,
            "metadata": {
                "id": "4f9685c1-d97c-47a5-8c1e-7d24fc6390f3"
            },
            "outputs": [
                {
                    "name": "stdout",
                    "output_type": "stream",
                    "text": "581.84s - pydevd: Sending message related to process being replaced timed-out after 5 seconds\nrm: cannot remove 'df_term.csv': No such file or directory\n587.50s - pydevd: Sending message related to process being replaced timed-out after 5 seconds\n--2024-10-16 15:21:43--  https://raw.githubusercontent.com/shadgriffin/auto-insrance-churn-data/main/df_term.csv\nResolving raw.githubusercontent.com (raw.githubusercontent.com)... 185.199.111.133, 185.199.109.133, 185.199.108.133, ...\nConnecting to raw.githubusercontent.com (raw.githubusercontent.com)|185.199.111.133|:443... connected.\nHTTP request sent, awaiting response... 200 OK\nLength: 7000764 (6.7M) [text/plain]\nSaving to: \u2018df_term.csv\u2019\n\ndf_term.csv         100%[===================>]   6.68M  --.-KB/s    in 0.03s   \n\n2024-10-16 15:21:44 (263 MB/s) - \u2018df_term.csv\u2019 saved [7000764/7000764]\n\n"
                },
                {
                    "data": {
                        "text/plain": "{'file_name': 'df_termination.csv',\n 'message': 'File saved to project storage.',\n 'bucket_name': 'mloperations-donotdelete-pr-fmmhumyz2goyqr',\n 'asset_id': '966f968e-b30b-47d0-b868-07b7658fd285'}"
                    },
                    "execution_count": 16,
                    "metadata": {},
                    "output_type": "execute_result"
                }
            ],
            "source": "#Remove the data if you run this notebook more than once\n!rm df_term.csv\n\n#import first half from github\n!wget https://raw.githubusercontent.com/shadgriffin/auto-insrance-churn-data/main/df_term.csv\n\n# Convert csv to pandas dataframe\ndf_termination = pd.read_csv(\"df_term.csv\", sep=\",\", header=0)\n\n\n\ndf_termination = df_termination.drop_duplicates()\n\nfrom project_lib import Project\n\nproject.save_data(file_name = \"df_termination.csv\",data = df_termination.to_csv(index=False),overwrite=True)"
        },
        {
            "cell_type": "code",
            "execution_count": 17,
            "metadata": {
                "id": "824398d7-73df-4f9b-9a82-9aae925f9045"
            },
            "outputs": [
                {
                    "data": {
                        "text/html": "<div>\n<style scoped>\n    .dataframe tbody tr th:only-of-type {\n        vertical-align: middle;\n    }\n\n    .dataframe tbody tr th {\n        vertical-align: top;\n    }\n\n    .dataframe thead th {\n        text-align: right;\n    }\n</style>\n<table border=\"1\" class=\"dataframe\">\n  <thead>\n    <tr style=\"text-align: right;\">\n      <th></th>\n      <th>INDIVIDUAL_ID</th>\n      <th>ACCT_SUSPD_DATE</th>\n    </tr>\n  </thead>\n  <tbody>\n    <tr>\n      <th>0</th>\n      <td>2.213026e+11</td>\n      <td>2022-10-09</td>\n    </tr>\n    <tr>\n      <th>1</th>\n      <td>2.213028e+11</td>\n      <td>2022-04-24</td>\n    </tr>\n    <tr>\n      <th>2</th>\n      <td>2.213027e+11</td>\n      <td>2022-05-21</td>\n    </tr>\n    <tr>\n      <th>3</th>\n      <td>2.213002e+11</td>\n      <td>2022-04-27</td>\n    </tr>\n    <tr>\n      <th>4</th>\n      <td>2.213026e+11</td>\n      <td>2022-09-16</td>\n    </tr>\n  </tbody>\n</table>\n</div>",
                        "text/plain": "   INDIVIDUAL_ID ACCT_SUSPD_DATE\n0   2.213026e+11      2022-10-09\n1   2.213028e+11      2022-04-24\n2   2.213027e+11      2022-05-21\n3   2.213002e+11      2022-04-27\n4   2.213026e+11      2022-09-16"
                    },
                    "execution_count": 17,
                    "metadata": {},
                    "output_type": "execute_result"
                }
            ],
            "source": "df_termination.head()"
        },
        {
            "cell_type": "markdown",
            "metadata": {},
            "source": "#### Column Descriptions"
        },
        {
            "cell_type": "markdown",
            "metadata": {},
            "source": "INDIVIDUAL_ID -- Unique ID for a specific insurance customer\n\nACCT_SUSPD_DATE -- Day of Account Suspension or Cancellation"
        },
        {
            "cell_type": "markdown",
            "metadata": {},
            "source": "The termination data frame has 269,259 records"
        },
        {
            "cell_type": "code",
            "execution_count": 18,
            "metadata": {
                "id": "7fbe0b42-bc4a-46b3-acbd-d6ce0ac62d8f"
            },
            "outputs": [
                {
                    "data": {
                        "text/plain": "(269259, 2)"
                    },
                    "execution_count": 18,
                    "metadata": {},
                    "output_type": "execute_result"
                }
            ],
            "source": "df_termination.shape"
        },
        {
            "cell_type": "markdown",
            "metadata": {},
            "source": "### Create a churn to tenure chart."
        },
        {
            "cell_type": "markdown",
            "metadata": {},
            "source": "To show the robustness of the data, I will create a simple chart showing the relationship between tenure and churn."
        },
        {
            "cell_type": "code",
            "execution_count": 19,
            "metadata": {
                "id": "0fecffa9-6549-44a0-951f-8b53157d5368"
            },
            "outputs": [],
            "source": "df=pd.merge(df_customer, df_termination, on = \"INDIVIDUAL_ID\", how = \"left\")"
        },
        {
            "cell_type": "code",
            "execution_count": 20,
            "metadata": {
                "id": "620d1621-2c3a-45e2-a393-c134024fdbdf"
            },
            "outputs": [],
            "source": "df['CHURN'] = np.where(df.ACCT_SUSPD_DATE.isnull(), 0, 1)"
        },
        {
            "cell_type": "code",
            "execution_count": 21,
            "metadata": {
                "id": "478e974f-710e-4d9a-b1e3-ee4e3c570f91"
            },
            "outputs": [
                {
                    "data": {
                        "text/html": "<div>\n<style scoped>\n    .dataframe tbody tr th:only-of-type {\n        vertical-align: middle;\n    }\n\n    .dataframe tbody tr th {\n        vertical-align: top;\n    }\n\n    .dataframe thead th {\n        text-align: right;\n    }\n</style>\n<table border=\"1\" class=\"dataframe\">\n  <thead>\n    <tr style=\"text-align: right;\">\n      <th></th>\n      <th>INDIVIDUAL_ID</th>\n      <th>ADDRESS_ID</th>\n      <th>CURR_ANN_AMT</th>\n      <th>DAYS_TENURE</th>\n      <th>CUST_ORIG_DATE</th>\n      <th>AGE_IN_YEARS</th>\n      <th>DATE_OF_BIRTH</th>\n      <th>SOCIAL_SECURITY_NUMBER</th>\n      <th>ACCT_SUSPD_DATE</th>\n      <th>CHURN</th>\n    </tr>\n  </thead>\n  <tbody>\n    <tr>\n      <th>0</th>\n      <td>2.213000e+11</td>\n      <td>5.213000e+11</td>\n      <td>818.877997</td>\n      <td>1454.0</td>\n      <td>2018-12-09</td>\n      <td>44.474</td>\n      <td>1978-06-23</td>\n      <td>608-XX-7640</td>\n      <td>NaN</td>\n      <td>0</td>\n    </tr>\n    <tr>\n      <th>1</th>\n      <td>2.213001e+11</td>\n      <td>5.213001e+11</td>\n      <td>974.199182</td>\n      <td>1795.0</td>\n      <td>2018-01-02</td>\n      <td>72.559</td>\n      <td>1950-05-30</td>\n      <td>342-XX-6908</td>\n      <td>NaN</td>\n      <td>0</td>\n    </tr>\n    <tr>\n      <th>2</th>\n      <td>2.213007e+11</td>\n      <td>5.213002e+11</td>\n      <td>967.375112</td>\n      <td>4818.0</td>\n      <td>2009-09-23</td>\n      <td>55.444</td>\n      <td>1967-07-07</td>\n      <td>240-XX-9224</td>\n      <td>NaN</td>\n      <td>0</td>\n    </tr>\n    <tr>\n      <th>3</th>\n      <td>2.213016e+11</td>\n      <td>5.213006e+11</td>\n      <td>992.409561</td>\n      <td>130.0</td>\n      <td>2022-07-25</td>\n      <td>53.558</td>\n      <td>1969-05-25</td>\n      <td>775-XX-6249</td>\n      <td>2021-12-22</td>\n      <td>1</td>\n    </tr>\n    <tr>\n      <th>4</th>\n      <td>2.213016e+11</td>\n      <td>5.213006e+11</td>\n      <td>784.633494</td>\n      <td>5896.0</td>\n      <td>2006-10-11</td>\n      <td>50.220</td>\n      <td>1972-09-25</td>\n      <td>629-XX-7298</td>\n      <td>NaN</td>\n      <td>0</td>\n    </tr>\n  </tbody>\n</table>\n</div>",
                        "text/plain": "   INDIVIDUAL_ID    ADDRESS_ID  CURR_ANN_AMT  DAYS_TENURE CUST_ORIG_DATE  \\\n0   2.213000e+11  5.213000e+11    818.877997       1454.0     2018-12-09   \n1   2.213001e+11  5.213001e+11    974.199182       1795.0     2018-01-02   \n2   2.213007e+11  5.213002e+11    967.375112       4818.0     2009-09-23   \n3   2.213016e+11  5.213006e+11    992.409561        130.0     2022-07-25   \n4   2.213016e+11  5.213006e+11    784.633494       5896.0     2006-10-11   \n\n   AGE_IN_YEARS DATE_OF_BIRTH SOCIAL_SECURITY_NUMBER ACCT_SUSPD_DATE  CHURN  \n0        44.474    1978-06-23            608-XX-7640             NaN      0  \n1        72.559    1950-05-30            342-XX-6908             NaN      0  \n2        55.444    1967-07-07            240-XX-9224             NaN      0  \n3        53.558    1969-05-25            775-XX-6249      2021-12-22      1  \n4        50.220    1972-09-25            629-XX-7298             NaN      0  "
                    },
                    "execution_count": 21,
                    "metadata": {},
                    "output_type": "execute_result"
                }
            ],
            "source": "df.head()"
        },
        {
            "cell_type": "code",
            "execution_count": 22,
            "metadata": {
                "id": "9aa20814-ca17-4204-802e-2094887e3774"
            },
            "outputs": [],
            "source": "df['VARIABLE']=df['DAYS_TENURE']"
        },
        {
            "cell_type": "code",
            "execution_count": 23,
            "metadata": {
                "id": "018450c2-6497-4351-b65c-6fe3368ca421"
            },
            "outputs": [],
            "source": "dfx=df\n#Sort the data by ID and Date\ndfx=dfx.sort_values(by=['VARIABLE'], ascending=[True])\n#add a very small random number to break ties\ndfx['wookie'] = (np.random.randint(0, 100, dfx.shape[0]))/1000000000000\ndfx['VARIABLE']=dfx['VARIABLE']+dfx['wookie']\n#Create percentiles based on Tenure\ndfx['PTILE'] = pd.qcut(dfx['VARIABLE'], 100, labels=np.arange(100, 0, -1))"
        },
        {
            "cell_type": "code",
            "execution_count": 24,
            "metadata": {
                "id": "6586fef2-bf36-4db9-87b0-fb948d45f159"
            },
            "outputs": [
                {
                    "data": {
                        "text/html": "<div>\n<style scoped>\n    .dataframe tbody tr th:only-of-type {\n        vertical-align: middle;\n    }\n\n    .dataframe tbody tr th {\n        vertical-align: top;\n    }\n\n    .dataframe thead th {\n        text-align: right;\n    }\n</style>\n<table border=\"1\" class=\"dataframe\">\n  <thead>\n    <tr style=\"text-align: right;\">\n      <th></th>\n      <th>INDIVIDUAL_ID</th>\n      <th>ADDRESS_ID</th>\n      <th>CURR_ANN_AMT</th>\n      <th>DAYS_TENURE</th>\n      <th>CUST_ORIG_DATE</th>\n      <th>AGE_IN_YEARS</th>\n      <th>DATE_OF_BIRTH</th>\n      <th>SOCIAL_SECURITY_NUMBER</th>\n      <th>ACCT_SUSPD_DATE</th>\n      <th>CHURN</th>\n      <th>VARIABLE</th>\n      <th>wookie</th>\n      <th>PTILE</th>\n    </tr>\n  </thead>\n  <tbody>\n    <tr>\n      <th>1647048</th>\n      <td>2.213024e+11</td>\n      <td>5.213009e+11</td>\n      <td>703.316448</td>\n      <td>20.0</td>\n      <td>2022-11-12</td>\n      <td>23.472</td>\n      <td>1999-06-19</td>\n      <td>655-XX-8924</td>\n      <td>NaN</td>\n      <td>0</td>\n      <td>20.0</td>\n      <td>8.000000e-11</td>\n      <td>100</td>\n    </tr>\n    <tr>\n      <th>117822</th>\n      <td>2.213019e+11</td>\n      <td>5.213007e+11</td>\n      <td>1016.340946</td>\n      <td>20.0</td>\n      <td>2022-11-12</td>\n      <td>23.472</td>\n      <td>1999-06-19</td>\n      <td>749-XX-3959</td>\n      <td>NaN</td>\n      <td>0</td>\n      <td>20.0</td>\n      <td>6.200000e-11</td>\n      <td>100</td>\n    </tr>\n    <tr>\n      <th>703742</th>\n      <td>2.213026e+11</td>\n      <td>5.213010e+11</td>\n      <td>1260.331510</td>\n      <td>20.0</td>\n      <td>2022-11-12</td>\n      <td>23.472</td>\n      <td>1999-06-19</td>\n      <td>132-XX-1870</td>\n      <td>NaN</td>\n      <td>0</td>\n      <td>20.0</td>\n      <td>1.200000e-11</td>\n      <td>100</td>\n    </tr>\n    <tr>\n      <th>450481</th>\n      <td>2.213016e+11</td>\n      <td>5.213006e+11</td>\n      <td>978.970349</td>\n      <td>20.0</td>\n      <td>2022-11-12</td>\n      <td>23.472</td>\n      <td>1999-06-19</td>\n      <td>469-XX-3054</td>\n      <td>NaN</td>\n      <td>0</td>\n      <td>20.0</td>\n      <td>8.800000e-11</td>\n      <td>100</td>\n    </tr>\n    <tr>\n      <th>1359497</th>\n      <td>2.213024e+11</td>\n      <td>5.213009e+11</td>\n      <td>1059.702402</td>\n      <td>20.0</td>\n      <td>2022-11-12</td>\n      <td>23.472</td>\n      <td>1999-06-19</td>\n      <td>186-XX-2493</td>\n      <td>NaN</td>\n      <td>0</td>\n      <td>20.0</td>\n      <td>9.700000e-11</td>\n      <td>100</td>\n    </tr>\n    <tr>\n      <th>...</th>\n      <td>...</td>\n      <td>...</td>\n      <td>...</td>\n      <td>...</td>\n      <td>...</td>\n      <td>...</td>\n      <td>...</td>\n      <td>...</td>\n      <td>...</td>\n      <td>...</td>\n      <td>...</td>\n      <td>...</td>\n      <td>...</td>\n    </tr>\n    <tr>\n      <th>386233</th>\n      <td>2.213025e+11</td>\n      <td>5.213009e+11</td>\n      <td>1468.227733</td>\n      <td>25.0</td>\n      <td>2022-11-07</td>\n      <td>24.808</td>\n      <td>1998-02-16</td>\n      <td>691-XX-8490</td>\n      <td>2022-10-17</td>\n      <td>1</td>\n      <td>25.0</td>\n      <td>3.900000e-11</td>\n      <td>100</td>\n    </tr>\n    <tr>\n      <th>1822560</th>\n      <td>2.213002e+11</td>\n      <td>5.213001e+11</td>\n      <td>897.559642</td>\n      <td>25.0</td>\n      <td>2022-11-07</td>\n      <td>24.893</td>\n      <td>1998-01-16</td>\n      <td>405-XX-9957</td>\n      <td>NaN</td>\n      <td>0</td>\n      <td>25.0</td>\n      <td>1.900000e-11</td>\n      <td>100</td>\n    </tr>\n    <tr>\n      <th>26332</th>\n      <td>2.213030e+11</td>\n      <td>5.213012e+11</td>\n      <td>681.623028</td>\n      <td>25.0</td>\n      <td>2022-11-07</td>\n      <td>24.808</td>\n      <td>1998-02-16</td>\n      <td>740-XX-6725</td>\n      <td>2022-08-11</td>\n      <td>1</td>\n      <td>25.0</td>\n      <td>1.900000e-11</td>\n      <td>100</td>\n    </tr>\n    <tr>\n      <th>1283643</th>\n      <td>2.213021e+11</td>\n      <td>5.213008e+11</td>\n      <td>1317.328784</td>\n      <td>25.0</td>\n      <td>2022-11-07</td>\n      <td>NaN</td>\n      <td>1992-03-14</td>\n      <td>474-XX-1909</td>\n      <td>2022-10-29</td>\n      <td>1</td>\n      <td>25.0</td>\n      <td>5.000000e-11</td>\n      <td>100</td>\n    </tr>\n    <tr>\n      <th>22956</th>\n      <td>2.213019e+11</td>\n      <td>5.213007e+11</td>\n      <td>1126.294105</td>\n      <td>25.0</td>\n      <td>2022-11-07</td>\n      <td>24.641</td>\n      <td>1998-04-18</td>\n      <td>266-XX-8330</td>\n      <td>2022-09-26</td>\n      <td>1</td>\n      <td>25.0</td>\n      <td>7.100000e-11</td>\n      <td>100</td>\n    </tr>\n  </tbody>\n</table>\n<p>100 rows \u00d7 13 columns</p>\n</div>",
                        "text/plain": "         INDIVIDUAL_ID    ADDRESS_ID  CURR_ANN_AMT  DAYS_TENURE  \\\n1647048   2.213024e+11  5.213009e+11    703.316448         20.0   \n117822    2.213019e+11  5.213007e+11   1016.340946         20.0   \n703742    2.213026e+11  5.213010e+11   1260.331510         20.0   \n450481    2.213016e+11  5.213006e+11    978.970349         20.0   \n1359497   2.213024e+11  5.213009e+11   1059.702402         20.0   \n...                ...           ...           ...          ...   \n386233    2.213025e+11  5.213009e+11   1468.227733         25.0   \n1822560   2.213002e+11  5.213001e+11    897.559642         25.0   \n26332     2.213030e+11  5.213012e+11    681.623028         25.0   \n1283643   2.213021e+11  5.213008e+11   1317.328784         25.0   \n22956     2.213019e+11  5.213007e+11   1126.294105         25.0   \n\n        CUST_ORIG_DATE  AGE_IN_YEARS DATE_OF_BIRTH SOCIAL_SECURITY_NUMBER  \\\n1647048     2022-11-12        23.472    1999-06-19            655-XX-8924   \n117822      2022-11-12        23.472    1999-06-19            749-XX-3959   \n703742      2022-11-12        23.472    1999-06-19            132-XX-1870   \n450481      2022-11-12        23.472    1999-06-19            469-XX-3054   \n1359497     2022-11-12        23.472    1999-06-19            186-XX-2493   \n...                ...           ...           ...                    ...   \n386233      2022-11-07        24.808    1998-02-16            691-XX-8490   \n1822560     2022-11-07        24.893    1998-01-16            405-XX-9957   \n26332       2022-11-07        24.808    1998-02-16            740-XX-6725   \n1283643     2022-11-07           NaN    1992-03-14            474-XX-1909   \n22956       2022-11-07        24.641    1998-04-18            266-XX-8330   \n\n        ACCT_SUSPD_DATE  CHURN  VARIABLE        wookie PTILE  \n1647048             NaN      0      20.0  8.000000e-11   100  \n117822              NaN      0      20.0  6.200000e-11   100  \n703742              NaN      0      20.0  1.200000e-11   100  \n450481              NaN      0      20.0  8.800000e-11   100  \n1359497             NaN      0      20.0  9.700000e-11   100  \n...                 ...    ...       ...           ...   ...  \n386233       2022-10-17      1      25.0  3.900000e-11   100  \n1822560             NaN      0      25.0  1.900000e-11   100  \n26332        2022-08-11      1      25.0  1.900000e-11   100  \n1283643      2022-10-29      1      25.0  5.000000e-11   100  \n22956        2022-09-26      1      25.0  7.100000e-11   100  \n\n[100 rows x 13 columns]"
                    },
                    "execution_count": 24,
                    "metadata": {},
                    "output_type": "execute_result"
                }
            ],
            "source": "dfx.head(100)"
        },
        {
            "cell_type": "code",
            "execution_count": 25,
            "metadata": {
                "id": "0faeb7f0-8226-4bc1-81ac-0d75621bfbcc"
            },
            "outputs": [
                {
                    "name": "stderr",
                    "output_type": "stream",
                    "text": "/tmp/wsuser/ipykernel_174/3573531920.py:3: FutureWarning: The default of observed=False is deprecated and will be changed to True in a future version of pandas. Pass observed=False to retain current behavior or observed=True to adopt the future default and silence this warning.\n  tips_summedx = pd.DataFrame(dfx.groupby(['PTILE'])['VARIABLE'].mean())\n/tmp/wsuser/ipykernel_174/3573531920.py:5: FutureWarning: The default of observed=False is deprecated and will be changed to True in a future version of pandas. Pass observed=False to retain current behavior or observed=True to adopt the future default and silence this warning.\n  tips_summedy = pd.DataFrame(dfx.groupby(['PTILE'])['VARIABLE'].sum())\n/tmp/wsuser/ipykernel_174/3573531920.py:7: FutureWarning: The default of observed=False is deprecated and will be changed to True in a future version of pandas. Pass observed=False to retain current behavior or observed=True to adopt the future default and silence this warning.\n  tips_summedz = pd.DataFrame(dfx.groupby(['PTILE'])['VARIABLE'].count())\n/tmp/wsuser/ipykernel_174/3573531920.py:10: FutureWarning: The default of observed=False is deprecated and will be changed to True in a future version of pandas. Pass observed=False to retain current behavior or observed=True to adopt the future default and silence this warning.\n  tips_summedw = pd.DataFrame(dfx.groupby(['PTILE'])['CHURN'].mean())\n"
                }
            ],
            "source": "# Find the minimum probability for each PTILE\n\ntips_summedx = pd.DataFrame(dfx.groupby(['PTILE'])['VARIABLE'].mean())\n#Sum the number of Failures in each PTILE.\ntips_summedy = pd.DataFrame(dfx.groupby(['PTILE'])['VARIABLE'].sum())\n# count the records in each PTILE\ntips_summedz = pd.DataFrame(dfx.groupby(['PTILE'])['VARIABLE'].count())\n#Aggregate the summaries into one dataframe\n\ntips_summedw = pd.DataFrame(dfx.groupby(['PTILE'])['CHURN'].mean())\n#Sum the number of Failures in each PTILE.\ntips = pd.concat([tips_summedx, tips_summedy,tips_summedz,tips_summedw], axis=1)\ntips.columns = ['VARIABLE','CANCELS', 'OBS','CHURN_RATE']"
        },
        {
            "cell_type": "code",
            "execution_count": 26,
            "metadata": {
                "id": "c299612e-3af4-4c22-84fd-14d0ecc81c90"
            },
            "outputs": [
                {
                    "data": {
                        "text/html": "<div>\n<style scoped>\n    .dataframe tbody tr th:only-of-type {\n        vertical-align: middle;\n    }\n\n    .dataframe tbody tr th {\n        vertical-align: top;\n    }\n\n    .dataframe thead th {\n        text-align: right;\n    }\n</style>\n<table border=\"1\" class=\"dataframe\">\n  <thead>\n    <tr style=\"text-align: right;\">\n      <th></th>\n      <th>VARIABLE</th>\n      <th>CANCELS</th>\n      <th>OBS</th>\n      <th>CHURN_RATE</th>\n    </tr>\n    <tr>\n      <th>PTILE</th>\n      <th></th>\n      <th></th>\n      <th></th>\n      <th></th>\n    </tr>\n  </thead>\n  <tbody>\n    <tr>\n      <th>100</th>\n      <td>57.242262</td>\n      <td>1.305696e+06</td>\n      <td>22810</td>\n      <td>0.500833</td>\n    </tr>\n    <tr>\n      <th>99</th>\n      <td>78.541782</td>\n      <td>1.823426e+06</td>\n      <td>23216</td>\n      <td>0.499655</td>\n    </tr>\n    <tr>\n      <th>98</th>\n      <td>80.000000</td>\n      <td>1.811040e+06</td>\n      <td>22638</td>\n      <td>0.496775</td>\n    </tr>\n    <tr>\n      <th>97</th>\n      <td>85.533295</td>\n      <td>1.929289e+06</td>\n      <td>22556</td>\n      <td>0.501951</td>\n    </tr>\n    <tr>\n      <th>96</th>\n      <td>102.784499</td>\n      <td>2.343281e+06</td>\n      <td>22798</td>\n      <td>0.504299</td>\n    </tr>\n  </tbody>\n</table>\n</div>",
                        "text/plain": "         VARIABLE       CANCELS    OBS  CHURN_RATE\nPTILE                                             \n100     57.242262  1.305696e+06  22810    0.500833\n99      78.541782  1.823426e+06  23216    0.499655\n98      80.000000  1.811040e+06  22638    0.496775\n97      85.533295  1.929289e+06  22556    0.501951\n96     102.784499  2.343281e+06  22798    0.504299"
                    },
                    "execution_count": 26,
                    "metadata": {},
                    "output_type": "execute_result"
                }
            ],
            "source": "tips.head()"
        },
        {
            "cell_type": "code",
            "execution_count": 28,
            "metadata": {
                "id": "3fbe82ce-eceb-40f6-8d5e-34909cd10cf3"
            },
            "outputs": [
                {
                    "data": {
                        "application/vnd.plotly.v1+json": {
                            "config": {
                                "linkText": "Export to plot.ly",
                                "plotlyServerURL": "https://plot.ly",
                                "showLink": false
                            },
                            "data": [
                                {
                                    "name": "Churn versus Tenure",
                                    "type": "scatter",
                                    "x": [
                                        57.242262165765574,
                                        78.54178153000764,
                                        80.00000000005996,
                                        85.53329491050614,
                                        102.78449864028072,
                                        119.00613954309273,
                                        134.06143120236442,
                                        149.602140163193,
                                        160.740953125723,
                                        168.33612143747726,
                                        188.6846514892812,
                                        214.60421052636542,
                                        250.5061836681487,
                                        302.05863263610627,
                                        396.3613998158633,
                                        555.0639800035576,
                                        707.5351977696843,
                                        753.2175154897956,
                                        804.5259285368651,
                                        886.8340130685054,
                                        998.7897044637867,
                                        1104.3086100268054,
                                        1191.3685524843163,
                                        1204.0000000000525,
                                        1221.674899660454,
                                        1307.0854937053618,
                                        1398.469174778616,
                                        1488.9876754386462,
                                        1577.6329152646483,
                                        1609.1462266227204,
                                        1677.2458563536404,
                                        1774.4839261436398,
                                        1870.8170694268292,
                                        1968.1771401160456,
                                        2009.2117377309944,
                                        2074.4917982456636,
                                        2178.7134274689142,
                                        2285.994299245796,
                                        2387.899370249767,
                                        2419.085462516113,
                                        2512.506995307273,
                                        2627.1881687423756,
                                        2743.477391342535,
                                        2809.785776805301,
                                        2873.0584772198563,
                                        2999.381539136203,
                                        3128.466268971012,
                                        3210.876778699303,
                                        3267.365218540766,
                                        3401.378458974746,
                                        3536.8072183485124,
                                        3613.7848266841565,
                                        3682.60020287559,
                                        3821.0860927152817,
                                        3962.9498099856287,
                                        4018.0371136744416,
                                        4117.702657661658,
                                        4268.142512606934,
                                        4399.572889469141,
                                        4442.81967647845,
                                        4586.1052885459185,
                                        4746.771378632338,
                                        4819.13837419133,
                                        4919.45629960975,
                                        5084.459106257998,
                                        5211.887089715577,
                                        5268.9508765763585,
                                        5435.029429824611,
                                        5593.617015706844,
                                        5642.8130289140245,
                                        5801.472964083722,
                                        5980.307298503583,
                                        6036.389865518211,
                                        6212.782288473098,
                                        6291.000000000002,
                                        6291.0000000000055,
                                        6291.00000000001,
                                        6291.000000000013,
                                        6291.000000000017,
                                        6291.000000000021,
                                        6291.0000000000255,
                                        6291.000000000029,
                                        6291.000000000033,
                                        6291.000000000036,
                                        6291.00000000004,
                                        6291.000000000044,
                                        6291.000000000049,
                                        6291.000000000052,
                                        6291.0000000000555,
                                        6291.00000000006,
                                        6291.000000000063,
                                        6291.000000000067,
                                        6291.000000000072,
                                        6291.000000000076,
                                        6291.000000000079,
                                        6291.000000000082,
                                        6291.000000000087,
                                        6291.00000000009,
                                        6291.000000000095,
                                        6291.000000000098
                                    ],
                                    "y": [
                                        0.5008329679964928,
                                        0.4996554100620262,
                                        0.4967753335100274,
                                        0.5019507004788083,
                                        0.5042986226862005,
                                        0.4963820549927641,
                                        0.4966675436288696,
                                        0.4924129462327866,
                                        0.5028889178504713,
                                        0.4881837493361657,
                                        0.16949598631398868,
                                        0.16912280701754387,
                                        0.16919568458907114,
                                        0.1626101828706749,
                                        0.16831118712450116,
                                        0.07761796176109455,
                                        0.07292211186617878,
                                        0.07465834688227799,
                                        0.07476759043045336,
                                        0.07323597772222953,
                                        0.06870998859949136,
                                        0.07228387209965349,
                                        0.06781193490054249,
                                        0.06999156193098548,
                                        0.06964230582631324,
                                        0.07246567530815458,
                                        0.06976234324300623,
                                        0.06732456140350877,
                                        0.07276143862255822,
                                        0.06965896589658965,
                                        0.07042006489520301,
                                        0.07017236086136573,
                                        0.06841805183983159,
                                        0.07051589551262483,
                                        0.0727986242779664,
                                        0.07197368421052631,
                                        0.06959305385020172,
                                        0.07204876337484652,
                                        0.06957654723127035,
                                        0.07040694327591551,
                                        0.07197052760843822,
                                        0.07204876337484652,
                                        0.06797947458444806,
                                        0.07199124726477024,
                                        0.06902157198717104,
                                        0.06805525104143828,
                                        0.06798842003684534,
                                        0.07114797031863815,
                                        0.07005639760310187,
                                        0.07306056220672719,
                                        0.06933298250230233,
                                        0.06867233485938522,
                                        0.07043309517509042,
                                        0.07061093811674926,
                                        0.07355960337220985,
                                        0.06912036629391564,
                                        0.07073940882378739,
                                        0.06704670028502521,
                                        0.06788511749347259,
                                        0.06762132060461416,
                                        0.07003157340817401,
                                        0.06956521739130435,
                                        0.07063949650103428,
                                        0.07507784063500417,
                                        0.06915756698679998,
                                        0.06975929978118162,
                                        0.07078518388329892,
                                        0.07267543859649123,
                                        0.06945898778359512,
                                        0.06986071932299012,
                                        0.07253431566022014,
                                        0.0700096263236195,
                                        0.07097653159883976,
                                        0.06973957782711351,
                                        0.07049078717529723,
                                        0.06977525729888678,
                                        0.06886820268733415,
                                        0.06853766617429838,
                                        0.07332286672041413,
                                        0.06928981106612686,
                                        0.06937839198791473,
                                        0.0697318658904517,
                                        0.07041248793588184,
                                        0.06629671669399252,
                                        0.0696565690659016,
                                        0.07306686904460748,
                                        0.06876003719043192,
                                        0.072702487788254,
                                        0.06853070175438597,
                                        0.07091504658186923,
                                        0.07083280409839536,
                                        0.06872823396131414,
                                        0.06735794975552184,
                                        0.07005356545028457,
                                        0.06989580399887356,
                                        0.06892801873771383,
                                        0.07407407407407407,
                                        0.07136545339785398,
                                        0.06802835921674544,
                                        0.07320750502568685
                                    ]
                                }
                            ],
                            "layout": {
                                "showlegend": true,
                                "template": {
                                    "data": {
                                        "bar": [
                                            {
                                                "error_x": {
                                                    "color": "#2a3f5f"
                                                },
                                                "error_y": {
                                                    "color": "#2a3f5f"
                                                },
                                                "marker": {
                                                    "line": {
                                                        "color": "#E5ECF6",
                                                        "width": 0.5
                                                    },
                                                    "pattern": {
                                                        "fillmode": "overlay",
                                                        "size": 10,
                                                        "solidity": 0.2
                                                    }
                                                },
                                                "type": "bar"
                                            }
                                        ],
                                        "barpolar": [
                                            {
                                                "marker": {
                                                    "line": {
                                                        "color": "#E5ECF6",
                                                        "width": 0.5
                                                    },
                                                    "pattern": {
                                                        "fillmode": "overlay",
                                                        "size": 10,
                                                        "solidity": 0.2
                                                    }
                                                },
                                                "type": "barpolar"
                                            }
                                        ],
                                        "carpet": [
                                            {
                                                "aaxis": {
                                                    "endlinecolor": "#2a3f5f",
                                                    "gridcolor": "white",
                                                    "linecolor": "white",
                                                    "minorgridcolor": "white",
                                                    "startlinecolor": "#2a3f5f"
                                                },
                                                "baxis": {
                                                    "endlinecolor": "#2a3f5f",
                                                    "gridcolor": "white",
                                                    "linecolor": "white",
                                                    "minorgridcolor": "white",
                                                    "startlinecolor": "#2a3f5f"
                                                },
                                                "type": "carpet"
                                            }
                                        ],
                                        "choropleth": [
                                            {
                                                "colorbar": {
                                                    "outlinewidth": 0,
                                                    "ticks": ""
                                                },
                                                "type": "choropleth"
                                            }
                                        ],
                                        "contour": [
                                            {
                                                "colorbar": {
                                                    "outlinewidth": 0,
                                                    "ticks": ""
                                                },
                                                "colorscale": [
                                                    [
                                                        0,
                                                        "#0d0887"
                                                    ],
                                                    [
                                                        0.1111111111111111,
                                                        "#46039f"
                                                    ],
                                                    [
                                                        0.2222222222222222,
                                                        "#7201a8"
                                                    ],
                                                    [
                                                        0.3333333333333333,
                                                        "#9c179e"
                                                    ],
                                                    [
                                                        0.4444444444444444,
                                                        "#bd3786"
                                                    ],
                                                    [
                                                        0.5555555555555556,
                                                        "#d8576b"
                                                    ],
                                                    [
                                                        0.6666666666666666,
                                                        "#ed7953"
                                                    ],
                                                    [
                                                        0.7777777777777778,
                                                        "#fb9f3a"
                                                    ],
                                                    [
                                                        0.8888888888888888,
                                                        "#fdca26"
                                                    ],
                                                    [
                                                        1,
                                                        "#f0f921"
                                                    ]
                                                ],
                                                "type": "contour"
                                            }
                                        ],
                                        "contourcarpet": [
                                            {
                                                "colorbar": {
                                                    "outlinewidth": 0,
                                                    "ticks": ""
                                                },
                                                "type": "contourcarpet"
                                            }
                                        ],
                                        "heatmap": [
                                            {
                                                "colorbar": {
                                                    "outlinewidth": 0,
                                                    "ticks": ""
                                                },
                                                "colorscale": [
                                                    [
                                                        0,
                                                        "#0d0887"
                                                    ],
                                                    [
                                                        0.1111111111111111,
                                                        "#46039f"
                                                    ],
                                                    [
                                                        0.2222222222222222,
                                                        "#7201a8"
                                                    ],
                                                    [
                                                        0.3333333333333333,
                                                        "#9c179e"
                                                    ],
                                                    [
                                                        0.4444444444444444,
                                                        "#bd3786"
                                                    ],
                                                    [
                                                        0.5555555555555556,
                                                        "#d8576b"
                                                    ],
                                                    [
                                                        0.6666666666666666,
                                                        "#ed7953"
                                                    ],
                                                    [
                                                        0.7777777777777778,
                                                        "#fb9f3a"
                                                    ],
                                                    [
                                                        0.8888888888888888,
                                                        "#fdca26"
                                                    ],
                                                    [
                                                        1,
                                                        "#f0f921"
                                                    ]
                                                ],
                                                "type": "heatmap"
                                            }
                                        ],
                                        "heatmapgl": [
                                            {
                                                "colorbar": {
                                                    "outlinewidth": 0,
                                                    "ticks": ""
                                                },
                                                "colorscale": [
                                                    [
                                                        0,
                                                        "#0d0887"
                                                    ],
                                                    [
                                                        0.1111111111111111,
                                                        "#46039f"
                                                    ],
                                                    [
                                                        0.2222222222222222,
                                                        "#7201a8"
                                                    ],
                                                    [
                                                        0.3333333333333333,
                                                        "#9c179e"
                                                    ],
                                                    [
                                                        0.4444444444444444,
                                                        "#bd3786"
                                                    ],
                                                    [
                                                        0.5555555555555556,
                                                        "#d8576b"
                                                    ],
                                                    [
                                                        0.6666666666666666,
                                                        "#ed7953"
                                                    ],
                                                    [
                                                        0.7777777777777778,
                                                        "#fb9f3a"
                                                    ],
                                                    [
                                                        0.8888888888888888,
                                                        "#fdca26"
                                                    ],
                                                    [
                                                        1,
                                                        "#f0f921"
                                                    ]
                                                ],
                                                "type": "heatmapgl"
                                            }
                                        ],
                                        "histogram": [
                                            {
                                                "marker": {
                                                    "pattern": {
                                                        "fillmode": "overlay",
                                                        "size": 10,
                                                        "solidity": 0.2
                                                    }
                                                },
                                                "type": "histogram"
                                            }
                                        ],
                                        "histogram2d": [
                                            {
                                                "colorbar": {
                                                    "outlinewidth": 0,
                                                    "ticks": ""
                                                },
                                                "colorscale": [
                                                    [
                                                        0,
                                                        "#0d0887"
                                                    ],
                                                    [
                                                        0.1111111111111111,
                                                        "#46039f"
                                                    ],
                                                    [
                                                        0.2222222222222222,
                                                        "#7201a8"
                                                    ],
                                                    [
                                                        0.3333333333333333,
                                                        "#9c179e"
                                                    ],
                                                    [
                                                        0.4444444444444444,
                                                        "#bd3786"
                                                    ],
                                                    [
                                                        0.5555555555555556,
                                                        "#d8576b"
                                                    ],
                                                    [
                                                        0.6666666666666666,
                                                        "#ed7953"
                                                    ],
                                                    [
                                                        0.7777777777777778,
                                                        "#fb9f3a"
                                                    ],
                                                    [
                                                        0.8888888888888888,
                                                        "#fdca26"
                                                    ],
                                                    [
                                                        1,
                                                        "#f0f921"
                                                    ]
                                                ],
                                                "type": "histogram2d"
                                            }
                                        ],
                                        "histogram2dcontour": [
                                            {
                                                "colorbar": {
                                                    "outlinewidth": 0,
                                                    "ticks": ""
                                                },
                                                "colorscale": [
                                                    [
                                                        0,
                                                        "#0d0887"
                                                    ],
                                                    [
                                                        0.1111111111111111,
                                                        "#46039f"
                                                    ],
                                                    [
                                                        0.2222222222222222,
                                                        "#7201a8"
                                                    ],
                                                    [
                                                        0.3333333333333333,
                                                        "#9c179e"
                                                    ],
                                                    [
                                                        0.4444444444444444,
                                                        "#bd3786"
                                                    ],
                                                    [
                                                        0.5555555555555556,
                                                        "#d8576b"
                                                    ],
                                                    [
                                                        0.6666666666666666,
                                                        "#ed7953"
                                                    ],
                                                    [
                                                        0.7777777777777778,
                                                        "#fb9f3a"
                                                    ],
                                                    [
                                                        0.8888888888888888,
                                                        "#fdca26"
                                                    ],
                                                    [
                                                        1,
                                                        "#f0f921"
                                                    ]
                                                ],
                                                "type": "histogram2dcontour"
                                            }
                                        ],
                                        "mesh3d": [
                                            {
                                                "colorbar": {
                                                    "outlinewidth": 0,
                                                    "ticks": ""
                                                },
                                                "type": "mesh3d"
                                            }
                                        ],
                                        "parcoords": [
                                            {
                                                "line": {
                                                    "colorbar": {
                                                        "outlinewidth": 0,
                                                        "ticks": ""
                                                    }
                                                },
                                                "type": "parcoords"
                                            }
                                        ],
                                        "pie": [
                                            {
                                                "automargin": true,
                                                "type": "pie"
                                            }
                                        ],
                                        "scatter": [
                                            {
                                                "fillpattern": {
                                                    "fillmode": "overlay",
                                                    "size": 10,
                                                    "solidity": 0.2
                                                },
                                                "type": "scatter"
                                            }
                                        ],
                                        "scatter3d": [
                                            {
                                                "line": {
                                                    "colorbar": {
                                                        "outlinewidth": 0,
                                                        "ticks": ""
                                                    }
                                                },
                                                "marker": {
                                                    "colorbar": {
                                                        "outlinewidth": 0,
                                                        "ticks": ""
                                                    }
                                                },
                                                "type": "scatter3d"
                                            }
                                        ],
                                        "scattercarpet": [
                                            {
                                                "marker": {
                                                    "colorbar": {
                                                        "outlinewidth": 0,
                                                        "ticks": ""
                                                    }
                                                },
                                                "type": "scattercarpet"
                                            }
                                        ],
                                        "scattergeo": [
                                            {
                                                "marker": {
                                                    "colorbar": {
                                                        "outlinewidth": 0,
                                                        "ticks": ""
                                                    }
                                                },
                                                "type": "scattergeo"
                                            }
                                        ],
                                        "scattergl": [
                                            {
                                                "marker": {
                                                    "colorbar": {
                                                        "outlinewidth": 0,
                                                        "ticks": ""
                                                    }
                                                },
                                                "type": "scattergl"
                                            }
                                        ],
                                        "scattermapbox": [
                                            {
                                                "marker": {
                                                    "colorbar": {
                                                        "outlinewidth": 0,
                                                        "ticks": ""
                                                    }
                                                },
                                                "type": "scattermapbox"
                                            }
                                        ],
                                        "scatterpolar": [
                                            {
                                                "marker": {
                                                    "colorbar": {
                                                        "outlinewidth": 0,
                                                        "ticks": ""
                                                    }
                                                },
                                                "type": "scatterpolar"
                                            }
                                        ],
                                        "scatterpolargl": [
                                            {
                                                "marker": {
                                                    "colorbar": {
                                                        "outlinewidth": 0,
                                                        "ticks": ""
                                                    }
                                                },
                                                "type": "scatterpolargl"
                                            }
                                        ],
                                        "scatterternary": [
                                            {
                                                "marker": {
                                                    "colorbar": {
                                                        "outlinewidth": 0,
                                                        "ticks": ""
                                                    }
                                                },
                                                "type": "scatterternary"
                                            }
                                        ],
                                        "surface": [
                                            {
                                                "colorbar": {
                                                    "outlinewidth": 0,
                                                    "ticks": ""
                                                },
                                                "colorscale": [
                                                    [
                                                        0,
                                                        "#0d0887"
                                                    ],
                                                    [
                                                        0.1111111111111111,
                                                        "#46039f"
                                                    ],
                                                    [
                                                        0.2222222222222222,
                                                        "#7201a8"
                                                    ],
                                                    [
                                                        0.3333333333333333,
                                                        "#9c179e"
                                                    ],
                                                    [
                                                        0.4444444444444444,
                                                        "#bd3786"
                                                    ],
                                                    [
                                                        0.5555555555555556,
                                                        "#d8576b"
                                                    ],
                                                    [
                                                        0.6666666666666666,
                                                        "#ed7953"
                                                    ],
                                                    [
                                                        0.7777777777777778,
                                                        "#fb9f3a"
                                                    ],
                                                    [
                                                        0.8888888888888888,
                                                        "#fdca26"
                                                    ],
                                                    [
                                                        1,
                                                        "#f0f921"
                                                    ]
                                                ],
                                                "type": "surface"
                                            }
                                        ],
                                        "table": [
                                            {
                                                "cells": {
                                                    "fill": {
                                                        "color": "#EBF0F8"
                                                    },
                                                    "line": {
                                                        "color": "white"
                                                    }
                                                },
                                                "header": {
                                                    "fill": {
                                                        "color": "#C8D4E3"
                                                    },
                                                    "line": {
                                                        "color": "white"
                                                    }
                                                },
                                                "type": "table"
                                            }
                                        ]
                                    },
                                    "layout": {
                                        "annotationdefaults": {
                                            "arrowcolor": "#2a3f5f",
                                            "arrowhead": 0,
                                            "arrowwidth": 1
                                        },
                                        "autotypenumbers": "strict",
                                        "coloraxis": {
                                            "colorbar": {
                                                "outlinewidth": 0,
                                                "ticks": ""
                                            }
                                        },
                                        "colorscale": {
                                            "diverging": [
                                                [
                                                    0,
                                                    "#8e0152"
                                                ],
                                                [
                                                    0.1,
                                                    "#c51b7d"
                                                ],
                                                [
                                                    0.2,
                                                    "#de77ae"
                                                ],
                                                [
                                                    0.3,
                                                    "#f1b6da"
                                                ],
                                                [
                                                    0.4,
                                                    "#fde0ef"
                                                ],
                                                [
                                                    0.5,
                                                    "#f7f7f7"
                                                ],
                                                [
                                                    0.6,
                                                    "#e6f5d0"
                                                ],
                                                [
                                                    0.7,
                                                    "#b8e186"
                                                ],
                                                [
                                                    0.8,
                                                    "#7fbc41"
                                                ],
                                                [
                                                    0.9,
                                                    "#4d9221"
                                                ],
                                                [
                                                    1,
                                                    "#276419"
                                                ]
                                            ],
                                            "sequential": [
                                                [
                                                    0,
                                                    "#0d0887"
                                                ],
                                                [
                                                    0.1111111111111111,
                                                    "#46039f"
                                                ],
                                                [
                                                    0.2222222222222222,
                                                    "#7201a8"
                                                ],
                                                [
                                                    0.3333333333333333,
                                                    "#9c179e"
                                                ],
                                                [
                                                    0.4444444444444444,
                                                    "#bd3786"
                                                ],
                                                [
                                                    0.5555555555555556,
                                                    "#d8576b"
                                                ],
                                                [
                                                    0.6666666666666666,
                                                    "#ed7953"
                                                ],
                                                [
                                                    0.7777777777777778,
                                                    "#fb9f3a"
                                                ],
                                                [
                                                    0.8888888888888888,
                                                    "#fdca26"
                                                ],
                                                [
                                                    1,
                                                    "#f0f921"
                                                ]
                                            ],
                                            "sequentialminus": [
                                                [
                                                    0,
                                                    "#0d0887"
                                                ],
                                                [
                                                    0.1111111111111111,
                                                    "#46039f"
                                                ],
                                                [
                                                    0.2222222222222222,
                                                    "#7201a8"
                                                ],
                                                [
                                                    0.3333333333333333,
                                                    "#9c179e"
                                                ],
                                                [
                                                    0.4444444444444444,
                                                    "#bd3786"
                                                ],
                                                [
                                                    0.5555555555555556,
                                                    "#d8576b"
                                                ],
                                                [
                                                    0.6666666666666666,
                                                    "#ed7953"
                                                ],
                                                [
                                                    0.7777777777777778,
                                                    "#fb9f3a"
                                                ],
                                                [
                                                    0.8888888888888888,
                                                    "#fdca26"
                                                ],
                                                [
                                                    1,
                                                    "#f0f921"
                                                ]
                                            ]
                                        },
                                        "colorway": [
                                            "#636efa",
                                            "#EF553B",
                                            "#00cc96",
                                            "#ab63fa",
                                            "#FFA15A",
                                            "#19d3f3",
                                            "#FF6692",
                                            "#B6E880",
                                            "#FF97FF",
                                            "#FECB52"
                                        ],
                                        "font": {
                                            "color": "#2a3f5f"
                                        },
                                        "geo": {
                                            "bgcolor": "white",
                                            "lakecolor": "white",
                                            "landcolor": "#E5ECF6",
                                            "showlakes": true,
                                            "showland": true,
                                            "subunitcolor": "white"
                                        },
                                        "hoverlabel": {
                                            "align": "left"
                                        },
                                        "hovermode": "closest",
                                        "mapbox": {
                                            "style": "light"
                                        },
                                        "paper_bgcolor": "white",
                                        "plot_bgcolor": "#E5ECF6",
                                        "polar": {
                                            "angularaxis": {
                                                "gridcolor": "white",
                                                "linecolor": "white",
                                                "ticks": ""
                                            },
                                            "bgcolor": "#E5ECF6",
                                            "radialaxis": {
                                                "gridcolor": "white",
                                                "linecolor": "white",
                                                "ticks": ""
                                            }
                                        },
                                        "scene": {
                                            "xaxis": {
                                                "backgroundcolor": "#E5ECF6",
                                                "gridcolor": "white",
                                                "gridwidth": 2,
                                                "linecolor": "white",
                                                "showbackground": true,
                                                "ticks": "",
                                                "zerolinecolor": "white"
                                            },
                                            "yaxis": {
                                                "backgroundcolor": "#E5ECF6",
                                                "gridcolor": "white",
                                                "gridwidth": 2,
                                                "linecolor": "white",
                                                "showbackground": true,
                                                "ticks": "",
                                                "zerolinecolor": "white"
                                            },
                                            "zaxis": {
                                                "backgroundcolor": "#E5ECF6",
                                                "gridcolor": "white",
                                                "gridwidth": 2,
                                                "linecolor": "white",
                                                "showbackground": true,
                                                "ticks": "",
                                                "zerolinecolor": "white"
                                            }
                                        },
                                        "shapedefaults": {
                                            "line": {
                                                "color": "#2a3f5f"
                                            }
                                        },
                                        "ternary": {
                                            "aaxis": {
                                                "gridcolor": "white",
                                                "linecolor": "white",
                                                "ticks": ""
                                            },
                                            "baxis": {
                                                "gridcolor": "white",
                                                "linecolor": "white",
                                                "ticks": ""
                                            },
                                            "bgcolor": "#E5ECF6",
                                            "caxis": {
                                                "gridcolor": "white",
                                                "linecolor": "white",
                                                "ticks": ""
                                            }
                                        },
                                        "title": {
                                            "x": 0.05
                                        },
                                        "xaxis": {
                                            "automargin": true,
                                            "gridcolor": "white",
                                            "linecolor": "white",
                                            "ticks": "",
                                            "title": {
                                                "standoff": 15
                                            },
                                            "zerolinecolor": "white",
                                            "zerolinewidth": 2
                                        },
                                        "yaxis": {
                                            "automargin": true,
                                            "gridcolor": "white",
                                            "linecolor": "white",
                                            "ticks": "",
                                            "title": {
                                                "standoff": 15
                                            },
                                            "zerolinecolor": "white",
                                            "zerolinewidth": 2
                                        }
                                    }
                                },
                                "title": {
                                    "text": "Churn by Tenure"
                                },
                                "xaxis": {
                                    "title": {
                                        "font": {
                                            "color": "#7f7f7f",
                                            "family": "Courier New, monospace",
                                            "size": 18
                                        },
                                        "text": "Tenure"
                                    }
                                },
                                "yaxis": {
                                    "title": {
                                        "font": {
                                            "color": "#7f7f7f",
                                            "family": "Courier New, monospace",
                                            "size": 18
                                        },
                                        "text": "Churn Rate"
                                    }
                                }
                            }
                        },
                        "text/html": "<div>                            <div id=\"4d3915cf-c7e7-41aa-b79a-4f3da081d8df\" class=\"plotly-graph-div\" style=\"height:525px; width:100%;\"></div>            <script type=\"text/javascript\">                require([\"plotly\"], function(Plotly) {                    window.PLOTLYENV=window.PLOTLYENV || {};                                    if (document.getElementById(\"4d3915cf-c7e7-41aa-b79a-4f3da081d8df\")) {                    Plotly.newPlot(                        \"4d3915cf-c7e7-41aa-b79a-4f3da081d8df\",                        [{\"name\":\"Churn versus Tenure\",\"x\":[57.242262165765574,78.54178153000764,80.00000000005996,85.53329491050614,102.78449864028072,119.00613954309273,134.06143120236442,149.602140163193,160.740953125723,168.33612143747726,188.6846514892812,214.60421052636542,250.5061836681487,302.05863263610627,396.3613998158633,555.0639800035576,707.5351977696843,753.2175154897956,804.5259285368651,886.8340130685054,998.7897044637867,1104.3086100268054,1191.3685524843163,1204.0000000000525,1221.674899660454,1307.0854937053618,1398.469174778616,1488.9876754386462,1577.6329152646483,1609.1462266227204,1677.2458563536404,1774.4839261436398,1870.8170694268292,1968.1771401160456,2009.2117377309944,2074.4917982456636,2178.7134274689142,2285.994299245796,2387.899370249767,2419.085462516113,2512.506995307273,2627.1881687423756,2743.477391342535,2809.785776805301,2873.0584772198563,2999.381539136203,3128.466268971012,3210.876778699303,3267.365218540766,3401.378458974746,3536.8072183485124,3613.7848266841565,3682.60020287559,3821.0860927152817,3962.9498099856287,4018.0371136744416,4117.702657661658,4268.142512606934,4399.572889469141,4442.81967647845,4586.1052885459185,4746.771378632338,4819.13837419133,4919.45629960975,5084.459106257998,5211.887089715577,5268.9508765763585,5435.029429824611,5593.617015706844,5642.8130289140245,5801.472964083722,5980.307298503583,6036.389865518211,6212.782288473098,6291.000000000002,6291.0000000000055,6291.00000000001,6291.000000000013,6291.000000000017,6291.000000000021,6291.0000000000255,6291.000000000029,6291.000000000033,6291.000000000036,6291.00000000004,6291.000000000044,6291.000000000049,6291.000000000052,6291.0000000000555,6291.00000000006,6291.000000000063,6291.000000000067,6291.000000000072,6291.000000000076,6291.000000000079,6291.000000000082,6291.000000000087,6291.00000000009,6291.000000000095,6291.000000000098],\"y\":[0.5008329679964928,0.4996554100620262,0.4967753335100274,0.5019507004788083,0.5042986226862005,0.4963820549927641,0.4966675436288696,0.4924129462327866,0.5028889178504713,0.4881837493361657,0.16949598631398868,0.16912280701754387,0.16919568458907114,0.1626101828706749,0.16831118712450116,0.07761796176109455,0.07292211186617878,0.07465834688227799,0.07476759043045336,0.07323597772222953,0.06870998859949136,0.07228387209965349,0.06781193490054249,0.06999156193098548,0.06964230582631324,0.07246567530815458,0.06976234324300623,0.06732456140350877,0.07276143862255822,0.06965896589658965,0.07042006489520301,0.07017236086136573,0.06841805183983159,0.07051589551262483,0.0727986242779664,0.07197368421052631,0.06959305385020172,0.07204876337484652,0.06957654723127035,0.07040694327591551,0.07197052760843822,0.07204876337484652,0.06797947458444806,0.07199124726477024,0.06902157198717104,0.06805525104143828,0.06798842003684534,0.07114797031863815,0.07005639760310187,0.07306056220672719,0.06933298250230233,0.06867233485938522,0.07043309517509042,0.07061093811674926,0.07355960337220985,0.06912036629391564,0.07073940882378739,0.06704670028502521,0.06788511749347259,0.06762132060461416,0.07003157340817401,0.06956521739130435,0.07063949650103428,0.07507784063500417,0.06915756698679998,0.06975929978118162,0.07078518388329892,0.07267543859649123,0.06945898778359512,0.06986071932299012,0.07253431566022014,0.0700096263236195,0.07097653159883976,0.06973957782711351,0.07049078717529723,0.06977525729888678,0.06886820268733415,0.06853766617429838,0.07332286672041413,0.06928981106612686,0.06937839198791473,0.0697318658904517,0.07041248793588184,0.06629671669399252,0.0696565690659016,0.07306686904460748,0.06876003719043192,0.072702487788254,0.06853070175438597,0.07091504658186923,0.07083280409839536,0.06872823396131414,0.06735794975552184,0.07005356545028457,0.06989580399887356,0.06892801873771383,0.07407407407407407,0.07136545339785398,0.06802835921674544,0.07320750502568685],\"type\":\"scatter\"}],                        {\"showlegend\":true,\"template\":{\"data\":{\"barpolar\":[{\"marker\":{\"line\":{\"color\":\"#E5ECF6\",\"width\":0.5},\"pattern\":{\"fillmode\":\"overlay\",\"size\":10,\"solidity\":0.2}},\"type\":\"barpolar\"}],\"bar\":[{\"error_x\":{\"color\":\"#2a3f5f\"},\"error_y\":{\"color\":\"#2a3f5f\"},\"marker\":{\"line\":{\"color\":\"#E5ECF6\",\"width\":0.5},\"pattern\":{\"fillmode\":\"overlay\",\"size\":10,\"solidity\":0.2}},\"type\":\"bar\"}],\"carpet\":[{\"aaxis\":{\"endlinecolor\":\"#2a3f5f\",\"gridcolor\":\"white\",\"linecolor\":\"white\",\"minorgridcolor\":\"white\",\"startlinecolor\":\"#2a3f5f\"},\"baxis\":{\"endlinecolor\":\"#2a3f5f\",\"gridcolor\":\"white\",\"linecolor\":\"white\",\"minorgridcolor\":\"white\",\"startlinecolor\":\"#2a3f5f\"},\"type\":\"carpet\"}],\"choropleth\":[{\"colorbar\":{\"outlinewidth\":0,\"ticks\":\"\"},\"type\":\"choropleth\"}],\"contourcarpet\":[{\"colorbar\":{\"outlinewidth\":0,\"ticks\":\"\"},\"type\":\"contourcarpet\"}],\"contour\":[{\"colorbar\":{\"outlinewidth\":0,\"ticks\":\"\"},\"colorscale\":[[0.0,\"#0d0887\"],[0.1111111111111111,\"#46039f\"],[0.2222222222222222,\"#7201a8\"],[0.3333333333333333,\"#9c179e\"],[0.4444444444444444,\"#bd3786\"],[0.5555555555555556,\"#d8576b\"],[0.6666666666666666,\"#ed7953\"],[0.7777777777777778,\"#fb9f3a\"],[0.8888888888888888,\"#fdca26\"],[1.0,\"#f0f921\"]],\"type\":\"contour\"}],\"heatmapgl\":[{\"colorbar\":{\"outlinewidth\":0,\"ticks\":\"\"},\"colorscale\":[[0.0,\"#0d0887\"],[0.1111111111111111,\"#46039f\"],[0.2222222222222222,\"#7201a8\"],[0.3333333333333333,\"#9c179e\"],[0.4444444444444444,\"#bd3786\"],[0.5555555555555556,\"#d8576b\"],[0.6666666666666666,\"#ed7953\"],[0.7777777777777778,\"#fb9f3a\"],[0.8888888888888888,\"#fdca26\"],[1.0,\"#f0f921\"]],\"type\":\"heatmapgl\"}],\"heatmap\":[{\"colorbar\":{\"outlinewidth\":0,\"ticks\":\"\"},\"colorscale\":[[0.0,\"#0d0887\"],[0.1111111111111111,\"#46039f\"],[0.2222222222222222,\"#7201a8\"],[0.3333333333333333,\"#9c179e\"],[0.4444444444444444,\"#bd3786\"],[0.5555555555555556,\"#d8576b\"],[0.6666666666666666,\"#ed7953\"],[0.7777777777777778,\"#fb9f3a\"],[0.8888888888888888,\"#fdca26\"],[1.0,\"#f0f921\"]],\"type\":\"heatmap\"}],\"histogram2dcontour\":[{\"colorbar\":{\"outlinewidth\":0,\"ticks\":\"\"},\"colorscale\":[[0.0,\"#0d0887\"],[0.1111111111111111,\"#46039f\"],[0.2222222222222222,\"#7201a8\"],[0.3333333333333333,\"#9c179e\"],[0.4444444444444444,\"#bd3786\"],[0.5555555555555556,\"#d8576b\"],[0.6666666666666666,\"#ed7953\"],[0.7777777777777778,\"#fb9f3a\"],[0.8888888888888888,\"#fdca26\"],[1.0,\"#f0f921\"]],\"type\":\"histogram2dcontour\"}],\"histogram2d\":[{\"colorbar\":{\"outlinewidth\":0,\"ticks\":\"\"},\"colorscale\":[[0.0,\"#0d0887\"],[0.1111111111111111,\"#46039f\"],[0.2222222222222222,\"#7201a8\"],[0.3333333333333333,\"#9c179e\"],[0.4444444444444444,\"#bd3786\"],[0.5555555555555556,\"#d8576b\"],[0.6666666666666666,\"#ed7953\"],[0.7777777777777778,\"#fb9f3a\"],[0.8888888888888888,\"#fdca26\"],[1.0,\"#f0f921\"]],\"type\":\"histogram2d\"}],\"histogram\":[{\"marker\":{\"pattern\":{\"fillmode\":\"overlay\",\"size\":10,\"solidity\":0.2}},\"type\":\"histogram\"}],\"mesh3d\":[{\"colorbar\":{\"outlinewidth\":0,\"ticks\":\"\"},\"type\":\"mesh3d\"}],\"parcoords\":[{\"line\":{\"colorbar\":{\"outlinewidth\":0,\"ticks\":\"\"}},\"type\":\"parcoords\"}],\"pie\":[{\"automargin\":true,\"type\":\"pie\"}],\"scatter3d\":[{\"line\":{\"colorbar\":{\"outlinewidth\":0,\"ticks\":\"\"}},\"marker\":{\"colorbar\":{\"outlinewidth\":0,\"ticks\":\"\"}},\"type\":\"scatter3d\"}],\"scattercarpet\":[{\"marker\":{\"colorbar\":{\"outlinewidth\":0,\"ticks\":\"\"}},\"type\":\"scattercarpet\"}],\"scattergeo\":[{\"marker\":{\"colorbar\":{\"outlinewidth\":0,\"ticks\":\"\"}},\"type\":\"scattergeo\"}],\"scattergl\":[{\"marker\":{\"colorbar\":{\"outlinewidth\":0,\"ticks\":\"\"}},\"type\":\"scattergl\"}],\"scattermapbox\":[{\"marker\":{\"colorbar\":{\"outlinewidth\":0,\"ticks\":\"\"}},\"type\":\"scattermapbox\"}],\"scatterpolargl\":[{\"marker\":{\"colorbar\":{\"outlinewidth\":0,\"ticks\":\"\"}},\"type\":\"scatterpolargl\"}],\"scatterpolar\":[{\"marker\":{\"colorbar\":{\"outlinewidth\":0,\"ticks\":\"\"}},\"type\":\"scatterpolar\"}],\"scatter\":[{\"fillpattern\":{\"fillmode\":\"overlay\",\"size\":10,\"solidity\":0.2},\"type\":\"scatter\"}],\"scatterternary\":[{\"marker\":{\"colorbar\":{\"outlinewidth\":0,\"ticks\":\"\"}},\"type\":\"scatterternary\"}],\"surface\":[{\"colorbar\":{\"outlinewidth\":0,\"ticks\":\"\"},\"colorscale\":[[0.0,\"#0d0887\"],[0.1111111111111111,\"#46039f\"],[0.2222222222222222,\"#7201a8\"],[0.3333333333333333,\"#9c179e\"],[0.4444444444444444,\"#bd3786\"],[0.5555555555555556,\"#d8576b\"],[0.6666666666666666,\"#ed7953\"],[0.7777777777777778,\"#fb9f3a\"],[0.8888888888888888,\"#fdca26\"],[1.0,\"#f0f921\"]],\"type\":\"surface\"}],\"table\":[{\"cells\":{\"fill\":{\"color\":\"#EBF0F8\"},\"line\":{\"color\":\"white\"}},\"header\":{\"fill\":{\"color\":\"#C8D4E3\"},\"line\":{\"color\":\"white\"}},\"type\":\"table\"}]},\"layout\":{\"annotationdefaults\":{\"arrowcolor\":\"#2a3f5f\",\"arrowhead\":0,\"arrowwidth\":1},\"autotypenumbers\":\"strict\",\"coloraxis\":{\"colorbar\":{\"outlinewidth\":0,\"ticks\":\"\"}},\"colorscale\":{\"diverging\":[[0,\"#8e0152\"],[0.1,\"#c51b7d\"],[0.2,\"#de77ae\"],[0.3,\"#f1b6da\"],[0.4,\"#fde0ef\"],[0.5,\"#f7f7f7\"],[0.6,\"#e6f5d0\"],[0.7,\"#b8e186\"],[0.8,\"#7fbc41\"],[0.9,\"#4d9221\"],[1,\"#276419\"]],\"sequential\":[[0.0,\"#0d0887\"],[0.1111111111111111,\"#46039f\"],[0.2222222222222222,\"#7201a8\"],[0.3333333333333333,\"#9c179e\"],[0.4444444444444444,\"#bd3786\"],[0.5555555555555556,\"#d8576b\"],[0.6666666666666666,\"#ed7953\"],[0.7777777777777778,\"#fb9f3a\"],[0.8888888888888888,\"#fdca26\"],[1.0,\"#f0f921\"]],\"sequentialminus\":[[0.0,\"#0d0887\"],[0.1111111111111111,\"#46039f\"],[0.2222222222222222,\"#7201a8\"],[0.3333333333333333,\"#9c179e\"],[0.4444444444444444,\"#bd3786\"],[0.5555555555555556,\"#d8576b\"],[0.6666666666666666,\"#ed7953\"],[0.7777777777777778,\"#fb9f3a\"],[0.8888888888888888,\"#fdca26\"],[1.0,\"#f0f921\"]]},\"colorway\":[\"#636efa\",\"#EF553B\",\"#00cc96\",\"#ab63fa\",\"#FFA15A\",\"#19d3f3\",\"#FF6692\",\"#B6E880\",\"#FF97FF\",\"#FECB52\"],\"font\":{\"color\":\"#2a3f5f\"},\"geo\":{\"bgcolor\":\"white\",\"lakecolor\":\"white\",\"landcolor\":\"#E5ECF6\",\"showlakes\":true,\"showland\":true,\"subunitcolor\":\"white\"},\"hoverlabel\":{\"align\":\"left\"},\"hovermode\":\"closest\",\"mapbox\":{\"style\":\"light\"},\"paper_bgcolor\":\"white\",\"plot_bgcolor\":\"#E5ECF6\",\"polar\":{\"angularaxis\":{\"gridcolor\":\"white\",\"linecolor\":\"white\",\"ticks\":\"\"},\"bgcolor\":\"#E5ECF6\",\"radialaxis\":{\"gridcolor\":\"white\",\"linecolor\":\"white\",\"ticks\":\"\"}},\"scene\":{\"xaxis\":{\"backgroundcolor\":\"#E5ECF6\",\"gridcolor\":\"white\",\"gridwidth\":2,\"linecolor\":\"white\",\"showbackground\":true,\"ticks\":\"\",\"zerolinecolor\":\"white\"},\"yaxis\":{\"backgroundcolor\":\"#E5ECF6\",\"gridcolor\":\"white\",\"gridwidth\":2,\"linecolor\":\"white\",\"showbackground\":true,\"ticks\":\"\",\"zerolinecolor\":\"white\"},\"zaxis\":{\"backgroundcolor\":\"#E5ECF6\",\"gridcolor\":\"white\",\"gridwidth\":2,\"linecolor\":\"white\",\"showbackground\":true,\"ticks\":\"\",\"zerolinecolor\":\"white\"}},\"shapedefaults\":{\"line\":{\"color\":\"#2a3f5f\"}},\"ternary\":{\"aaxis\":{\"gridcolor\":\"white\",\"linecolor\":\"white\",\"ticks\":\"\"},\"baxis\":{\"gridcolor\":\"white\",\"linecolor\":\"white\",\"ticks\":\"\"},\"bgcolor\":\"#E5ECF6\",\"caxis\":{\"gridcolor\":\"white\",\"linecolor\":\"white\",\"ticks\":\"\"}},\"title\":{\"x\":0.05},\"xaxis\":{\"automargin\":true,\"gridcolor\":\"white\",\"linecolor\":\"white\",\"ticks\":\"\",\"title\":{\"standoff\":15},\"zerolinecolor\":\"white\",\"zerolinewidth\":2},\"yaxis\":{\"automargin\":true,\"gridcolor\":\"white\",\"linecolor\":\"white\",\"ticks\":\"\",\"title\":{\"standoff\":15},\"zerolinecolor\":\"white\",\"zerolinewidth\":2}}},\"title\":{\"text\":\"Churn by Tenure\"},\"xaxis\":{\"title\":{\"font\":{\"color\":\"#7f7f7f\",\"family\":\"Courier New, monospace\",\"size\":18},\"text\":\"Tenure\"}},\"yaxis\":{\"title\":{\"font\":{\"color\":\"#7f7f7f\",\"family\":\"Courier New, monospace\",\"size\":18},\"text\":\"Churn Rate\"}}},                        {\"responsive\": true}                    ).then(function(){\n                            \nvar gd = document.getElementById('4d3915cf-c7e7-41aa-b79a-4f3da081d8df');\nvar x = new MutationObserver(function (mutations, observer) {{\n        var display = window.getComputedStyle(gd).display;\n        if (!display || display === 'none') {{\n            console.log([gd, 'removed!']);\n            Plotly.purge(gd);\n            observer.disconnect();\n        }}\n}});\n\n// Listen for the removal of the full notebook cells\nvar notebookContainer = gd.closest('#notebook-container');\nif (notebookContainer) {{\n    x.observe(notebookContainer, {childList: true});\n}}\n\n// Listen for the clearing of the current output cell\nvar outputEl = gd.closest('.output');\nif (outputEl) {{\n    x.observe(outputEl, {childList: true});\n}}\n\n                        })                };                });            </script>        </div>"
                    },
                    "metadata": {},
                    "output_type": "display_data"
                }
            ],
            "source": "x1 = tips['VARIABLE']\ny1 = tips['CHURN_RATE']\n\ntrace = go.Scatter(\n    x = x1,\n    y = y1,\n    name='Churn versus Tenure')\n\nlayout = go.Layout(\n    title='Churn by Tenure',\n    xaxis=dict(\n        title='Tenure',\n        titlefont=dict(\n            family='Courier New, monospace',\n            size=18,\n            color='#7f7f7f'\n        )\n    ),\n    yaxis=dict(\n        title='Churn Rate',\n        titlefont=dict(\n            family='Courier New, monospace',\n            size=18,\n            color='#7f7f7f'\n        )\n    ),\n    showlegend=True,\n)\n    \ndata=[trace]  \nfig = go.Figure(data=data, layout=layout)\n#plot_url = py.plot(fig, filename='styling-names')\nplotly.offline.iplot(fig, filename='shapes-lines')"
        },
        {
            "cell_type": "markdown",
            "metadata": {},
            "source": "Note the high churn rate at six months.  This stems from customers paying up-front for a six-month policy to get coverage for a state-issued auto inspection and the high turnover of people who leave after their first policy contract.  Many consumers churn after 12 months as well.  All new customers agree to a six or twelve-month agreement.  After the first 12 months, the churn rate stabilizes."
        }
    ],
    "metadata": {
        "kernelspec": {
            "display_name": "Python 3.11",
            "language": "python",
            "name": "python3"
        },
        "language_info": {
            "codemirror_mode": {
                "name": "ipython",
                "version": 3
            },
            "file_extension": ".py",
            "mimetype": "text/x-python",
            "name": "python",
            "nbconvert_exporter": "python",
            "pygments_lexer": "ipython3",
            "version": "3.11.9"
        }
    },
    "nbformat": 4,
    "nbformat_minor": 4
}